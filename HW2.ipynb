{
  "cells": [
    {
      "cell_type": "markdown",
      "metadata": {
        "id": "view-in-github",
        "colab_type": "text"
      },
      "source": [
        "<a href=\"https://colab.research.google.com/github/feodosiya/DL_HW/blob/main/HW2.ipynb\" target=\"_parent\"><img src=\"https://colab.research.google.com/assets/colab-badge.svg\" alt=\"Open In Colab\"/></a>"
      ]
    },
    {
      "cell_type": "markdown",
      "metadata": {
        "id": "w35Q6hOIy4sk",
        "pycharm": {
          "name": "#%% md\n"
        }
      },
      "source": [
        "# Глубинное обучение, ИИ ВШЭ\n",
        "\n",
        "## Домашнее задание 2. Классификация при помощи CNN.\n",
        "\n",
        "### Общая информация\n",
        "\n",
        "### Оценивание и штрафы\n",
        "\n",
        "Максимально допустимая оценка за работу без бонусов — 10 баллов. Сдавать задание после указанного срока жесткого дедлайна нельзя.\n",
        "\n",
        "Сдача работы после мягкого дедлайна штрафуется ступенчато, -1 балл в сутки. Один раз за модуль студентам предоставляется возможность использовать отсрочку и сдать в жесткий дедлайн без штрафа.\n",
        "\n",
        "Задание выполняется самостоятельно. «Похожие» решения считаются плагиатом и все задействованные студенты (в том числе те, у кого списали) не могут получить за него больше 0 баллов. Если вы нашли решение какого-то из заданий (или его часть) в открытом источнике, необходимо указать ссылку на этот источник в отдельном блоке в конце вашей работы (скорее всего вы будете не единственным, кто это нашел, поэтому чтобы исключить подозрение в плагиате, необходима ссылка на источник).\n",
        "\n",
        "Неэффективная реализация кода может негативно отразиться на оценке. Также оценка может быть снижена за плохо читаемый код и плохо оформленные графики. Все ответы должны сопровождаться кодом или комментариями о том, как они были получены.\n",
        "\n",
        "Использование генеративных моделей допустимо на следующих условиях:\n",
        "- Количество кода, написанное генеративными моделями, не превышает 30%\n",
        "- Указана модель, использованная для генерации, а также промпт\n",
        "- В конце работы необходимо описать свой опыт использования генеративного ИИ для решения данного домашнего задания. Укажите как часто Вам приходилось исправлять код своими руками или просить модель что-то исправить. Было ли это быстрее, чем написать код самим?\n",
        "\n",
        "В случае невыполнения этих требований работа не оценивается и оценка за неё не превышает 0 баллов.\n",
        "\n",
        "### О задании\n",
        "\n",
        "В этом задании вам предстоит познакомиться со сверточными сетями и их обучением для классификации изображений с использованием библиотеки PyTorch.\n"
      ]
    },
    {
      "cell_type": "code",
      "execution_count": null,
      "metadata": {
        "id": "SaACifdX2QOo",
        "pycharm": {
          "name": "#%%\n"
        }
      },
      "outputs": [],
      "source": [
        "import matplotlib.pyplot as plt\n",
        "import numpy as np\n",
        "import torch\n",
        "import torch.nn as nn\n",
        "import torch.nn.functional as F\n",
        "import torch.optim as optim\n",
        "import torchvision\n",
        "import torchvision.transforms as transforms\n",
        "from sklearn.model_selection import train_test_split"
      ]
    },
    {
      "cell_type": "markdown",
      "metadata": {
        "id": "TIXaUYM-0JFl",
        "pycharm": {
          "name": "#%% md\n"
        }
      },
      "source": [
        "## 0. Загрузка данных\n",
        "\n",
        "Работать мы будем с набором данных [CIFAR10](https://www.cs.toronto.edu/~kriz/cifar.html). CIFAR10 представляет собой набор изображений 32х32 пикселя, разделенных на 10 классов.\n",
        "\n",
        "![title](https://pytorch.org/tutorials/_images/cifar10.png)\n",
        "\n",
        "\n"
      ]
    },
    {
      "cell_type": "markdown",
      "metadata": {
        "id": "g-0EEjl_10vB",
        "pycharm": {
          "name": "#%% md\n"
        }
      },
      "source": [
        "Набор данных уже определен в <code>torchvision.datasets</code>, так что возьмем его оттуда.\n",
        "\n"
      ]
    },
    {
      "cell_type": "code",
      "execution_count": null,
      "metadata": {
        "id": "Cbwe92dT3aPZ",
        "pycharm": {
          "name": "#%%\n"
        }
      },
      "outputs": [],
      "source": [
        "# Для тру нормализации\n",
        "# mean = [0.4914, 0.4822, 0.4465]\n",
        "# std = [0.2470, 0.2435, 0.2616]\n",
        "# Тут взяты значения как в одном из туториалов пайторча :)\n",
        "\n",
        "\n",
        "def get_cifar10_data(batch_size, transform_train):\n",
        "    torch.manual_seed(0)\n",
        "    np.random.seed(0)\n",
        "\n",
        "    transform_test = transforms.Compose(\n",
        "        [\n",
        "            transforms.ToTensor(),\n",
        "            # Переводим цвета пикселей в отрезок [-1, 1]\n",
        "            transforms.Normalize((0.5, 0.5, 0.5), (0.5, 0.5, 0.5)),\n",
        "        ]\n",
        "    )\n",
        "\n",
        "    # Загружаем данные\n",
        "    trainvalset = torchvision.datasets.CIFAR10(\n",
        "        root=\"./data\", train=True, download=True, transform=transform_train\n",
        "    )\n",
        "    testset = torchvision.datasets.CIFAR10(\n",
        "        root=\"./data\", train=False, download=True, transform=transform_test\n",
        "    )\n",
        "\n",
        "    # В датасете определено разбиение только на train и test,\n",
        "    # так что валидацию дополнительно выделяем из обучающей выборки\n",
        "    train_idx, valid_idx = train_test_split(\n",
        "        np.arange(len(trainvalset)), test_size=0.3, shuffle=True, random_state=0\n",
        "    )\n",
        "    trainset = torch.utils.data.Subset(trainvalset, train_idx)\n",
        "    valset = torch.utils.data.Subset(trainvalset, valid_idx)\n",
        "\n",
        "    train_loader = torch.utils.data.DataLoader(\n",
        "        trainset, batch_size=batch_size, shuffle=True, num_workers=2\n",
        "    )\n",
        "    val_loader = torch.utils.data.DataLoader(\n",
        "        valset, batch_size=batch_size, shuffle=False, num_workers=2\n",
        "    )\n",
        "    test_loader = torch.utils.data.DataLoader(\n",
        "        testset, batch_size=batch_size, shuffle=False, num_workers=2\n",
        "    )\n",
        "\n",
        "    return train_loader, val_loader, test_loader"
      ]
    },
    {
      "cell_type": "code",
      "execution_count": null,
      "metadata": {
        "id": "2G2rLnN5y6Jj",
        "pycharm": {
          "name": "#%%\n"
        }
      },
      "outputs": [],
      "source": [
        "transform = transforms.Compose(\n",
        "    [transforms.ToTensor(), transforms.Normalize((0.5, 0.5, 0.5), (0.5, 0.5, 0.5))]\n",
        ")\n",
        "\n",
        "train_loader, val_loader, test_loader = get_cifar10_data(\n",
        "    batch_size=64, transform_train=transform\n",
        ")"
      ]
    },
    {
      "cell_type": "markdown",
      "metadata": {
        "id": "-82HWgXs77W1",
        "pycharm": {
          "name": "#%% md\n"
        }
      },
      "source": [
        "Посмотрим на изображения:"
      ]
    },
    {
      "cell_type": "code",
      "execution_count": null,
      "metadata": {
        "colab": {
          "base_uri": "https://localhost:8080/",
          "height": 210
        },
        "id": "ACnwaC5iy6L2",
        "outputId": "03dceaff-36f6-4409-9ebc-727fc70061b4",
        "pycharm": {
          "name": "#%%\n"
        }
      },
      "outputs": [
        {
          "output_type": "display_data",
          "data": {
            "text/plain": [
              "<Figure size 640x480 with 1 Axes>"
            ],
            "image/png": "[encoded data removed]"
          },
          "metadata": {}
        },
        {
          "output_type": "stream",
          "name": "stdout",
          "text": [
            "ship frog horse horse\n"
          ]
        }
      ],
      "source": [
        "def imshow(img):\n",
        "    img = img / 2 + 0.5\n",
        "    npimg = img.numpy()\n",
        "    plt.imshow(np.transpose(npimg, (1, 2, 0)))\n",
        "    plt.show()\n",
        "\n",
        "\n",
        "dataiter = iter(train_loader)\n",
        "images, labels = next(dataiter)\n",
        "\n",
        "imshow(torchvision.utils.make_grid(images[:4]))\n",
        "\n",
        "classes = (\n",
        "    \"plane\",\n",
        "    \"car\",\n",
        "    \"bird\",\n",
        "    \"cat\",\n",
        "    \"deer\",\n",
        "    \"dog\",\n",
        "    \"frog\",\n",
        "    \"horse\",\n",
        "    \"ship\",\n",
        "    \"truck\",\n",
        ")\n",
        "print(*[classes[labels[i]] for i in range(4)])"
      ]
    },
    {
      "cell_type": "markdown",
      "metadata": {
        "id": "KFDilng29YZ_",
        "pycharm": {
          "name": "#%% md\n"
        }
      },
      "source": [
        "## 1. Задание сверточной сети (3 балла)"
      ]
    },
    {
      "cell_type": "markdown",
      "metadata": {
        "id": "OX7Ul8YbYdQR",
        "pycharm": {
          "name": "#%% md\n"
        }
      },
      "source": [
        "Теперь нам нужно задать сверточную нейронную сеть, которую мы будем обучать классифицировать изображения.\n",
        "\n",
        "Используем сеть, основанную на одном блоке архитектуры, похожей на ResNet. Обратите внимание, это не ResNet 1 в 1.\n",
        "\n",
        "<img src=\"https://i.ibb.co/2hg962h/basic-block.png\" width=\"500\"/>\n",
        "\n",
        "__Указания:__\n",
        "\n",
        "- Все сверточные слои должны иметь 32 выходных канала, а также не должны изменять ширину и высоту изображения.\n",
        "- Выход блока сократите до размерности 32х4х4, применив average pooling.\n",
        "- Для получения итоговых логитов, распрямите выход пулинга в вектор из 512 элементов, а затем пропустите его через линейный слой."
      ]
    },
    {
      "cell_type": "markdown",
      "metadata": {
        "id": "sbyIylT9O9Dr",
        "pycharm": {
          "name": "#%% md\n"
        }
      },
      "source": [
        "**Задание 1.1 (3 балла).**\n",
        "\n",
        "Определите архитектуру сети соответственно схеме и указаниям выше.\n",
        "\n",
        "Ключевые слова: <code>Conv2d</code>, <code>BatchNorm2d</code>, <code>AvgPool2d</code>."
      ]
    },
    {
      "cell_type": "code",
      "source": [
        "torch.autograd.set_detect_anomaly(True) # дебаг"
      ],
      "metadata": {
        "colab": {
          "base_uri": "https://localhost:8080/"
        },
        "id": "OLC-igL5rbi-",
        "outputId": "8aca4cd4-f269-45b3-8b81-d4a5117d63d9"
      },
      "execution_count": null,
      "outputs": [
        {
          "output_type": "execute_result",
          "data": {
            "text/plain": [
              "<torch.autograd.anomaly_mode.set_detect_anomaly at 0x7a790a0c82d0>"
            ]
          },
          "metadata": {},
          "execution_count": 5
        }
      ]
    },
    {
      "cell_type": "code",
      "source": [
        "n_classes = 10\n",
        "\n",
        "class BasicBlockNet(nn.Module):\n",
        "    def __init__(self):\n",
        "        super().__init__()\n",
        "\n",
        "        self.conv_block = nn.Sequential(\n",
        "            nn.Conv2d(3, 32, kernel_size=3, padding=1),\n",
        "            nn.BatchNorm2d(32),\n",
        "            nn.ReLU(inplace=False),  # inplace=False пришлось указать, чтобы избавиться от ошибки при запуске обучения\n",
        "            nn.Conv2d(32, 32, kernel_size=3, padding=1),\n",
        "            nn.BatchNorm2d(32),\n",
        "            nn.ReLU(inplace=False)\n",
        "        )\n",
        "\n",
        "        self.conv1x1 = nn.Conv2d(3, 32, kernel_size=1)\n",
        "\n",
        "        self.avg_pool = nn.AvgPool2d(kernel_size=8)\n",
        "        self.fc = nn.Linear(32 * 4 * 4, n_classes)\n",
        "\n",
        "    def forward(self, x):\n",
        "        residual = self.conv1x1(x)\n",
        "        out = self.conv_block(x)\n",
        "        out = out + residual\n",
        "\n",
        "        out = self.avg_pool(out)\n",
        "        out = out.view(out.size(0), -1)\n",
        "\n",
        "        out = self.fc(out)\n",
        "\n",
        "        return out\n"
      ],
      "metadata": {
        "id": "JTrUfrEjMW4I"
      },
      "execution_count": null,
      "outputs": []
    },
    {
      "cell_type": "code",
      "execution_count": null,
      "metadata": {
        "id": "FI4BQg7Ky6Pw",
        "pycharm": {
          "name": "#%%\n"
        },
        "colab": {
          "base_uri": "https://localhost:8080/"
        },
        "outputId": "e8824930-8f3f-4a6a-8d59-12bd5151ae0c"
      },
      "outputs": [
        {
          "output_type": "execute_result",
          "data": {
            "text/plain": [
              "BasicBlockNet(\n",
              "  (conv_block): Sequential(\n",
              "    (0): Conv2d(3, 32, kernel_size=(3, 3), stride=(1, 1), padding=(1, 1))\n",
              "    (1): BatchNorm2d(32, eps=1e-05, momentum=0.1, affine=True, track_running_stats=True)\n",
              "    (2): ReLU()\n",
              "    (3): Conv2d(32, 32, kernel_size=(3, 3), stride=(1, 1), padding=(1, 1))\n",
              "    (4): BatchNorm2d(32, eps=1e-05, momentum=0.1, affine=True, track_running_stats=True)\n",
              "    (5): ReLU()\n",
              "  )\n",
              "  (conv1x1): Conv2d(3, 32, kernel_size=(1, 1), stride=(1, 1))\n",
              "  (avg_pool): AvgPool2d(kernel_size=8, stride=8, padding=0)\n",
              "  (fc): Linear(in_features=512, out_features=10, bias=True)\n",
              ")"
            ]
          },
          "metadata": {},
          "execution_count": 6
        }
      ],
      "source": [
        "net = BasicBlockNet()\n",
        "net"
      ]
    },
    {
      "cell_type": "markdown",
      "metadata": {
        "id": "igPoGZEub8d3",
        "pycharm": {
          "name": "#%% md\n"
        }
      },
      "source": [
        "Проверим, что выход сети имеет корректную размерность:"
      ]
    },
    {
      "cell_type": "code",
      "execution_count": null,
      "metadata": {
        "id": "cCIzFUpJ_Agw",
        "pycharm": {
          "name": "#%%\n"
        }
      },
      "outputs": [],
      "source": [
        "assert net(torch.zeros((10, 3, 32, 32))).shape == (10, 10)"
      ]
    },
    {
      "cell_type": "markdown",
      "metadata": {
        "id": "08osX622cDGz",
        "pycharm": {
          "name": "#%% md\n"
        }
      },
      "source": [
        "Чтобы проводить вычисления на GPU, в PyTorch необходимо руками перекладывать объекты, с которыми вы хотите проводить вычисления, на графический ускоритель. Это делается следующим образрм:"
      ]
    },
    {
      "cell_type": "code",
      "execution_count": null,
      "metadata": {
        "id": "56hDOMCFcDZX",
        "pycharm": {
          "name": "#%%\n"
        },
        "colab": {
          "base_uri": "https://localhost:8080/"
        },
        "outputId": "b42082d8-c6df-495d-cf09-90f3b73662be"
      },
      "outputs": [
        {
          "output_type": "stream",
          "name": "stdout",
          "text": [
            "cuda:0\n"
          ]
        }
      ],
      "source": [
        "device = torch.device(\"cuda:0\" if torch.cuda.is_available() else \"cpu\")\n",
        "print(device)"
      ]
    },
    {
      "cell_type": "code",
      "execution_count": null,
      "metadata": {
        "id": "ohnDWbp0qbtC",
        "pycharm": {
          "name": "#%%\n"
        }
      },
      "outputs": [],
      "source": [
        "net = net.to(device)"
      ]
    },
    {
      "cell_type": "markdown",
      "metadata": {
        "id": "H_bOlTVUp5QF",
        "pycharm": {
          "name": "#%% md\n"
        }
      },
      "source": [
        "Подключение GPU в google.colab:\n",
        "\n",
        "**Среда выполнения** -> **Сменить среду выполнения** -> **Аппаратный ускоритель** -> **GPU**"
      ]
    },
    {
      "cell_type": "markdown",
      "metadata": {
        "id": "AGi6XX_7_Bgg",
        "pycharm": {
          "name": "#%% md\n"
        }
      },
      "source": [
        "## 2. Обучение и тестирование модели (3 балла)"
      ]
    },
    {
      "cell_type": "markdown",
      "metadata": {
        "id": "0agj_MQoO9Ds",
        "pycharm": {
          "name": "#%% md\n"
        }
      },
      "source": [
        "**Задание 2.1 (2 балла).** Переходим к обучению модели. Заполните пропуски в функциях <code>test</code> и <code>train_epoch</code>. В качестве функции потерь будем использовать [кросс-энтропию](https://pytorch.org/docs/stable/generated/torch.nn.functional.cross_entropy.html), а в качестве метрики качества accuracy."
      ]
    },
    {
      "cell_type": "code",
      "source": [
        "def test(model, loader):\n",
        "    loss_log = []\n",
        "    acc_log = []\n",
        "    model.eval()\n",
        "\n",
        "    with torch.no_grad(): # нет необходимости вычислять градиенты\n",
        "        for data, target in loader:\n",
        "            data, target = data.cuda(), target.cuda()\n",
        "\n",
        "            output = model(data)\n",
        "            loss = nn.CrossEntropyLoss()(output, target)\n",
        "\n",
        "            _, preds = torch.max(output, 1)\n",
        "            correct = (preds == target).sum().item() # Для accuracy\n",
        "            acc = correct / target.size(0)\n",
        "\n",
        "            loss_log.append(loss.item())\n",
        "            acc_log.append(acc)\n",
        "\n",
        "    return np.mean(loss_log), np.mean(acc_log)\n",
        "\n",
        "\n",
        "def train_epoch(model, optimizer, train_loader):\n",
        "    loss_log = []\n",
        "    acc_log = []\n",
        "    model.train()\n",
        "\n",
        "    for data, target in train_loader:\n",
        "        data, target = data.cuda(), target.cuda()\n",
        "\n",
        "        optimizer.zero_grad()\n",
        "\n",
        "        output = model(data)\n",
        "        loss = nn.CrossEntropyLoss()(output, target)\n",
        "\n",
        "        loss.backward()\n",
        "        optimizer.step()\n",
        "\n",
        "        _, preds = torch.max(output, 1)\n",
        "        correct = (preds == target).sum().item()\n",
        "        acc = correct / target.size(0)\n",
        "\n",
        "        loss_log.append(loss.item())\n",
        "        acc_log.append(acc)\n",
        "\n",
        "    return loss_log, acc_log\n",
        "\n",
        "def train(model, optimizer, n_epochs, train_loader, val_loader, scheduler=None):\n",
        "    train_loss_log, train_acc_log, val_loss_log, val_acc_log = [], [], [], []\n",
        "\n",
        "    for epoch in range(n_epochs):\n",
        "        train_loss, train_acc = train_epoch(model, optimizer, train_loader)\n",
        "        val_loss, val_acc = test(model, val_loader)\n",
        "\n",
        "        train_loss_log.extend(train_loss)\n",
        "        train_acc_log.extend(train_acc)\n",
        "\n",
        "        val_loss_log.append(val_loss)\n",
        "        val_acc_log.append(val_acc)\n",
        "\n",
        "        print(f\"Epoch {epoch}\")\n",
        "        print(f\" train loss: {np.mean(train_loss)}, train acc: {np.mean(train_acc)}\")\n",
        "        print(f\" val loss: {val_loss}, val acc: {val_acc}\\n\")\n",
        "\n",
        "        if scheduler is not None:\n",
        "            scheduler.step()\n",
        "\n",
        "    return train_loss_log, train_acc_log, val_loss_log, val_acc_log\n"
      ],
      "metadata": {
        "id": "FmSpPQL2Jcvy"
      },
      "execution_count": null,
      "outputs": []
    },
    {
      "cell_type": "markdown",
      "metadata": {
        "id": "iSOqk_CAO9Dt",
        "pycharm": {
          "name": "#%% md\n"
        }
      },
      "source": [
        "Запустим обучение модели. В качестве оптимизатора будем использовать стохастический градиентный спуск, который является де-факто стандартом в задачах компьютерного зрения (наравне с <code>Adam</code>).\n",
        "\n",
        "__Замечание:__ Для достижения наилучшего качества в нашем случае потребуется обучать модель несколько сотен эпох. Однако в целях экономии вашего времени и сил, во всех экспериментах мы ограничимся 20 эпохами."
      ]
    },
    {
      "cell_type": "code",
      "source": [
        "torch.cuda.empty_cache()"
      ],
      "metadata": {
        "id": "8f1adY38cf6o"
      },
      "execution_count": null,
      "outputs": []
    },
    {
      "cell_type": "code",
      "execution_count": null,
      "metadata": {
        "id": "MKZBGhuAgMDu",
        "pycharm": {
          "name": "#%%\n"
        },
        "scrolled": true,
        "colab": {
          "base_uri": "https://localhost:8080/"
        },
        "outputId": "32e2f274-0900-4d82-9067-72d662fde7ff"
      },
      "outputs": [
        {
          "output_type": "stream",
          "name": "stdout",
          "text": [
            "Epoch 0\n",
            " train loss: 1.4770157686971006, train acc: 0.4763156176547402\n",
            " val loss: 1.2746576522259, val acc: 0.5474290780141843\n",
            "\n",
            "Epoch 1\n",
            " train loss: 1.2305297651064244, train acc: 0.5700941825541918\n",
            " val loss: 1.1918043311606061, val acc: 0.5852171985815604\n",
            "\n",
            "Epoch 2\n",
            " train loss: 1.136892371247412, train acc: 0.6025724732306086\n",
            " val loss: 1.1656454261313094, val acc: 0.6112588652482269\n",
            "\n",
            "Epoch 3\n",
            " train loss: 1.0862668454102231, train acc: 0.6215803734656569\n",
            " val loss: 1.0914004062084441, val acc: 0.6223404255319149\n",
            "\n",
            "Epoch 4\n",
            " train loss: 1.0493816737718948, train acc: 0.6384499869417604\n",
            " val loss: 1.0197099284922824, val acc: 0.6453900709219859\n",
            "\n",
            "Epoch 5\n",
            " train loss: 1.0314405260835748, train acc: 0.6413513645860538\n",
            " val loss: 1.000113617105687, val acc: 0.6506648936170213\n",
            "\n",
            "Epoch 6\n",
            " train loss: 1.0128386537161345, train acc: 0.6508512340036563\n",
            " val loss: 1.0695502065597697, val acc: 0.6350842198581561\n",
            "\n",
            "Epoch 7\n",
            " train loss: 0.9944360329202586, train acc: 0.655666459911204\n",
            " val loss: 1.020884395913875, val acc: 0.650110815602837\n",
            "\n",
            "Epoch 8\n",
            " train loss: 0.9710510633545341, train acc: 0.665558076521285\n",
            " val loss: 1.0031327759965938, val acc: 0.6537234042553192\n",
            "\n",
            "Epoch 9\n",
            " train loss: 0.9692367537583904, train acc: 0.6689981065552364\n",
            " val loss: 1.0129492079958002, val acc: 0.6546320921985816\n",
            "\n",
            "Epoch 10\n",
            " train loss: 0.943034552242028, train acc: 0.6755027422303473\n",
            " val loss: 1.0100328628053057, val acc: 0.6615913120567375\n",
            "\n",
            "Epoch 11\n",
            " train loss: 0.9459254043193797, train acc: 0.6750946722381823\n",
            " val loss: 1.0089849964101263, val acc: 0.6542774822695034\n",
            "\n",
            "Epoch 12\n",
            " train loss: 0.9306323523931137, train acc: 0.6793100352572473\n",
            " val loss: 1.2212593273913606, val acc: 0.6023492907801418\n",
            "\n",
            "Epoch 13\n",
            " train loss: 0.9265847805431163, train acc: 0.6794446983546618\n",
            " val loss: 1.0328104759784456, val acc: 0.6478723404255319\n",
            "\n",
            "Epoch 14\n",
            " train loss: 0.9173670621415161, train acc: 0.6833336053799948\n",
            " val loss: 0.9979134222294422, val acc: 0.6545212765957447\n",
            "\n",
            "Epoch 15\n",
            " train loss: 0.9169826994648363, train acc: 0.6870266388090885\n",
            " val loss: 0.9843016122249847, val acc: 0.6640735815602837\n",
            "\n",
            "Epoch 16\n",
            " train loss: 0.910734853698741, train acc: 0.6860554322277357\n",
            " val loss: 0.9581140665297813, val acc: 0.6757978723404255\n",
            "\n",
            "Epoch 17\n",
            " train loss: 0.8902780974259978, train acc: 0.6922376926090363\n",
            " val loss: 0.9985451989985527, val acc: 0.6632757092198582\n",
            "\n",
            "Epoch 18\n",
            " train loss: 0.8867917723912861, train acc: 0.6942453969704884\n",
            " val loss: 0.9871284084117159, val acc: 0.665735815602837\n",
            "\n",
            "Epoch 19\n",
            " train loss: 0.8826761815622041, train acc: 0.6986933598850875\n",
            " val loss: 0.9536644915316967, val acc: 0.6797650709219859\n",
            "\n"
          ]
        }
      ],
      "source": [
        "optimizer = optim.SGD(net.parameters(), lr=0.1, momentum=0.9)\n",
        "train_loss_log, train_acc_log, val_loss_log, val_acc_log = train(\n",
        "    net, optimizer, 20, train_loader, val_loader\n",
        ")"
      ]
    },
    {
      "cell_type": "markdown",
      "metadata": {
        "id": "gUb1jQW8O9Dt",
        "pycharm": {
          "name": "#%% md\n"
        }
      },
      "source": [
        "Посчитайте точность на тестовой выборке:"
      ]
    },
    {
      "cell_type": "code",
      "execution_count": null,
      "metadata": {
        "id": "Jyuc55B9_Amc",
        "pycharm": {
          "name": "#%%\n"
        },
        "colab": {
          "base_uri": "https://localhost:8080/"
        },
        "outputId": "32829695-93ae-4f9e-ffaa-5f87ecb93075"
      },
      "outputs": [
        {
          "output_type": "stream",
          "name": "stdout",
          "text": [
            " accuracy: 0.6710788216560509\n"
          ]
        }
      ],
      "source": [
        "test_loss, test_acc = test(net, test_loader)\n",
        "\n",
        "print(f' accuracy: {test_acc}')"
      ]
    },
    {
      "cell_type": "markdown",
      "metadata": {
        "id": "zM38Q9fwO9Dt",
        "pycharm": {
          "name": "#%% md\n"
        }
      },
      "source": [
        "Если вы все сделали правильно, у вас должна была получиться точность $\\ge 67\\%$."
      ]
    },
    {
      "cell_type": "markdown",
      "metadata": {
        "id": "DHFNSKcoO9Dt",
        "pycharm": {
          "name": "#%% md\n"
        }
      },
      "source": [
        "**Задание 2.2 (1 балл).** Постройте графики зависимости функции потерь и точности классификации от номера шага оптимизатора. На каждом графике расположите данные и для обучающей и для валидационной выборки, итого у вас должно получиться два графика. Обратите внимание, что на обучающей выборке эти данные считаются по каждому батчу, на валидационной же они считаются по всей выборке раз в эпоху."
      ]
    },
    {
      "cell_type": "code",
      "execution_count": null,
      "metadata": {
        "id": "LzIP0tGLO9Dt",
        "pycharm": {
          "name": "#%%\n"
        },
        "colab": {
          "base_uri": "https://localhost:8080/"
        },
        "outputId": "d061fdf2-85f0-4df1-b8a5-1ce39c92ae6f"
      },
      "outputs": [
        {
          "output_type": "stream",
          "name": "stdout",
          "text": [
            "epoch 0: train loss 1.4986041191509045, train acc 0.46826847740924515, val loss: 1.2582955073803028, val acc: 0.5612588652482269\n",
            "epoch 1: train loss 1.2416539557237294, train acc 0.5681966570906242, val loss: 1.215087139352839, val acc: 0.5745345744680851\n",
            "epoch 2: train loss 1.1429455125571606, train acc 0.602217452337425, val loss: 1.2607912142226037, val acc: 0.5701684397163119\n",
            "epoch 3: train loss 1.0938666953247251, train acc 0.6205479563854792, val loss: 1.1214714108629429, val acc: 0.6151152482269503\n",
            "epoch 4: train loss 1.0718091290437326, train acc 0.6276565356489945, val loss: 1.0529197895780522, val acc: 0.6348847517730497\n",
            "epoch 5: train loss 1.0372870910974046, train acc 0.640775985897101, val loss: 1.003852932503883, val acc: 0.6551418439716311\n",
            "epoch 6: train loss 1.014800746218596, train acc 0.6519203773831288, val loss: 1.0815348391837263, val acc: 0.6263962765957447\n",
            "epoch 7: train loss 0.9961181726490558, train acc 0.6546013972316531, val loss: 1.0710922634347957, val acc: 0.6376994680851064\n",
            "epoch 8: train loss 0.9926079841810781, train acc 0.6590493601462523, val loss: 1.0071163702518382, val acc: 0.6607712765957446\n",
            "epoch 9: train loss 0.9618318269414048, train acc 0.6683533559676156, val loss: 1.0520928048072977, val acc: 0.6453235815602838\n",
            "epoch 10: train loss 0.9509680120774989, train acc 0.6726952206842518, val loss: 1.0581102723770954, val acc: 0.642575354609929\n",
            "epoch 11: train loss 0.942468611152342, train acc 0.6753966440323844, val loss: 0.9778097167928168, val acc: 0.6711879432624114\n",
            "epoch 12: train loss 0.9324306603759472, train acc 0.6782490532776181, val loss: 1.0187024758217182, val acc: 0.6551861702127659\n",
            "epoch 13: train loss 0.9143589200005888, train acc 0.685210727343954, val loss: 0.9439386055824605, val acc: 0.6779255319148936\n",
            "epoch 14: train loss 0.9160093361106607, train acc 0.6855167798380778, val loss: 1.040297861809426, val acc: 0.6530141843971631\n",
            "epoch 15: train loss 0.9062885977668343, train acc 0.6866961021154349, val loss: 1.0026580384437074, val acc: 0.6655363475177306\n",
            "epoch 16: train loss 0.9003418450817547, train acc 0.6912828088273701, val loss: 0.9732973436091809, val acc: 0.6670212765957447\n",
            "epoch 17: train loss 0.8911572694778442, train acc 0.6933231587881954, val loss: 1.0665436455544004, val acc: 0.6457225177304965\n",
            "epoch 18: train loss 0.8783479383593286, train acc 0.6967387046226169, val loss: 0.968752502887807, val acc: 0.675886524822695\n",
            "epoch 19: train loss 0.8795286764610402, train acc 0.6975752481065552, val loss: 0.9623025148472888, val acc: 0.673293439716312\n"
          ]
        }
      ],
      "source": [
        "import matplotlib.pyplot as plt\n",
        "\n",
        "train_loss_lst, train_acc_lst = [], []\n",
        "val_loss_lst, val_acc_lst = [], []\n",
        "\n",
        "net = BasicBlockNet().to(device) # переинициализируем модель\n",
        "optimizer = optim.SGD(net.parameters(), lr=0.1, momentum=0.9)\n",
        "\n",
        "for epoch in range(20):\n",
        "\n",
        "    train_loss, train_acc = train_epoch(net, optimizer, train_loader)\n",
        "    train_loss_lst.extend(train_loss)\n",
        "    train_acc_lst.extend(train_acc)\n",
        "\n",
        "    val_loss, val_acc = test(net, val_loader)\n",
        "    val_loss_lst.append(val_loss)\n",
        "    val_acc_lst.append(val_acc)\n",
        "\n",
        "    print(f\"epoch {epoch}: train loss {np.mean(train_loss)}, train acc {np.mean(train_acc)}, val loss: {val_loss}, val acc: {val_acc}\")\n"
      ]
    },
    {
      "cell_type": "code",
      "source": [
        "steps = np.arange(len(train_loss_lst))\n",
        "val_steps = np.linspace(0, len(train_loss_lst) - 1, num=len(val_loss_lst))\n",
        "# с графиками помог chatgpt, промт: фрамгент кода со списками и запрос на отрисовку графиков раздельно для loss и accuracy\n",
        "\n",
        "plt.figure(figsize=(10, 5))\n",
        "plt.plot(steps, train_loss_lst, label='Train Loss', alpha=0.7)\n",
        "plt.plot(val_steps, val_loss_lst, label='Validation Loss', color='orange', linewidth=2)\n",
        "plt.xlabel('Step (Optimizer Steps)')\n",
        "plt.ylabel('Loss')\n",
        "plt.legend()\n",
        "plt.title('Loss vs Steps')\n",
        "plt.show()\n",
        "\n",
        "plt.figure(figsize=(10, 5))\n",
        "plt.plot(steps, train_acc_lst, label='Train Accuracy', alpha=0.7)\n",
        "plt.plot(val_steps, val_acc_lst, label='Validation Accuracy', color='orange', linewidth=2)\n",
        "plt.xlabel('Step (Optimizer Steps)')\n",
        "plt.ylabel('Accuracy')\n",
        "plt.legend()\n",
        "plt.title('Accuracy vs Steps')\n",
        "plt.show()\n"
      ],
      "metadata": {
        "colab": {
          "base_uri": "https://localhost:8080/",
          "height": 957
        },
        "id": "oT7DHz6-j1Ek",
        "outputId": "b0e64234-9e36-4f9b-84f3-39fb0892f315"
      },
      "execution_count": null,
      "outputs": [
        {
          "output_type": "display_data",
          "data": {
            "text/plain": [
              "<Figure size 1000x500 with 1 Axes>"
            ],
            "image/png": "[encoded data removed]"
          },
          "metadata": {}
        },
        {
          "output_type": "display_data",
          "data": {
            "text/plain": [
              "<Figure size 1000x500 with 1 Axes>"
            ],
            "image/png": "[encoded data removed]"
          },
          "metadata": {}
        }
      ]
    },
    {
      "cell_type": "markdown",
      "metadata": {
        "id": "_ttOJPj-O9Dt",
        "pycharm": {
          "name": "#%% md\n"
        }
      },
      "source": [
        "## 3. Расписание длины шага (2 балла)"
      ]
    },
    {
      "cell_type": "markdown",
      "metadata": {
        "id": "qiz3JstuO9Dt",
        "pycharm": {
          "name": "#%% md\n"
        }
      },
      "source": [
        "С курса \"Машинное обучение 1\" вы уже должны знать, что сходимость стохастического градиентного спуска мы можем теоретически гарантировать только если будем определенным образом со временем уменьшать длину шага. На практике при обучении нейронных сетей такая техника оказывается очень полезной, однако теоретически обоснованными способами уменьшения длины шага фантазия не ограничивается.\n",
        "\n",
        "Одним из простейших способов является кусочно постоянная функция: на нескольких фиксированных эпохах уменьшаем длину шага в константу раз."
      ]
    },
    {
      "cell_type": "code",
      "execution_count": null,
      "metadata": {
        "id": "V2Z0OT3nO9Du",
        "pycharm": {
          "name": "#%%\n"
        },
        "colab": {
          "base_uri": "https://localhost:8080/"
        },
        "outputId": "356b601d-adeb-4d94-9413-ea16ad628627"
      },
      "outputs": [
        {
          "output_type": "stream",
          "name": "stdout",
          "text": [
            "Epoch 0\n",
            " train loss: 1.4966896242807726, train acc: 0.4683664142073648\n",
            " val loss: 1.2839280166524523, val acc: 0.5568040780141843\n",
            "\n",
            "Epoch 1\n",
            " train loss: 1.225551455831615, train acc: 0.572016192217289\n",
            " val loss: 1.1600563320707769, val acc: 0.5931294326241136\n",
            "\n",
            "Epoch 2\n",
            " train loss: 1.1408474686158858, train acc: 0.6076284604335336\n",
            " val loss: 1.1351256035743875, val acc: 0.6138519503546098\n",
            "\n",
            "Epoch 3\n",
            " train loss: 1.0951275306820216, train acc: 0.6227637764429355\n",
            " val loss: 1.0997103216800284, val acc: 0.6165336879432625\n",
            "\n",
            "Epoch 4\n",
            " train loss: 1.0452691493130253, train acc: 0.6367197701749804\n",
            " val loss: 1.0595802946293609, val acc: 0.6382092198581562\n",
            "\n",
            "Epoch 5\n",
            " train loss: 1.0284209273197098, train acc: 0.6461869939932098\n",
            " val loss: 1.101423492330186, val acc: 0.6165336879432625\n",
            "\n",
            "Epoch 6\n",
            " train loss: 1.0109571069206573, train acc: 0.6514878231914338\n",
            " val loss: 1.1173275242460534, val acc: 0.6162012411347518\n",
            "\n",
            "Epoch 7\n",
            " train loss: 0.9835074006748373, train acc: 0.6603470227213372\n",
            " val loss: 1.0521954001264369, val acc: 0.6388519503546098\n",
            "\n",
            "Epoch 8\n",
            " train loss: 0.9779033368858603, train acc: 0.6615059414990859\n",
            " val loss: 1.0039621086830788, val acc: 0.6569148936170213\n",
            "\n",
            "Epoch 9\n",
            " train loss: 0.9500603522744432, train acc: 0.6749518477409245\n",
            " val loss: 1.0528980813127884, val acc: 0.6403812056737588\n",
            "\n",
            "Epoch 10\n",
            " train loss: 0.7894354365643461, train acc: 0.7268828349438495\n",
            " val loss: 0.8662016100071847, val acc: 0.7014849290780141\n",
            "\n",
            "Epoch 11\n",
            " train loss: 0.7612087515742949, train acc: 0.7367662901540872\n",
            " val loss: 0.8617065212828048, val acc: 0.7037234042553191\n",
            "\n",
            "Epoch 12\n",
            " train loss: 0.7496346560540104, train acc: 0.7403409832854532\n",
            " val loss: 0.8565407659145112, val acc: 0.7084441489361702\n",
            "\n",
            "Epoch 13\n",
            " train loss: 0.7423483310386512, train acc: 0.7435810590232437\n",
            " val loss: 0.8481485718108238, val acc: 0.7107047872340425\n",
            "\n",
            "Epoch 14\n",
            " train loss: 0.7352652076829286, train acc: 0.7454418581875164\n",
            " val loss: 0.8497900096659965, val acc: 0.7109042553191489\n",
            "\n",
            "Epoch 15\n",
            " train loss: 0.7141998051725315, train acc: 0.7543459454165578\n",
            " val loss: 0.8374454905378058, val acc: 0.7148714539007093\n",
            "\n",
            "Epoch 16\n",
            " train loss: 0.7124289925835032, train acc: 0.755337555497519\n",
            " val loss: 0.8365721905485113, val acc: 0.7154033687943263\n",
            "\n",
            "Epoch 17\n",
            " train loss: 0.7099676969064437, train acc: 0.7551131170018281\n",
            " val loss: 0.8349807802667009, val acc: 0.7153812056737587\n",
            "\n",
            "Epoch 18\n",
            " train loss: 0.7107111380130761, train acc: 0.7556272851919561\n",
            " val loss: 0.8348466083090356, val acc: 0.717331560283688\n",
            "\n",
            "Epoch 19\n",
            " train loss: 0.7098383250249587, train acc: 0.7564066988769914\n",
            " val loss: 0.8353982366145926, val acc: 0.7169991134751774\n",
            "\n"
          ]
        }
      ],
      "source": [
        "net = BasicBlockNet().to(device)\n",
        "optimizer = optim.SGD(net.parameters(), lr=0.1, momentum=0.9)\n",
        "scheduler = optim.lr_scheduler.MultiStepLR(optimizer, milestones=[10, 15], gamma=0.1)\n",
        "tr_loss_log, tr_acc_log, val_loss_log, val_acc_log = train(\n",
        "    net, optimizer, 20, train_loader, val_loader, scheduler\n",
        ")"
      ]
    },
    {
      "cell_type": "markdown",
      "metadata": {
        "id": "5Xc76KvzO9Du",
        "pycharm": {
          "name": "#%% md\n"
        }
      },
      "source": [
        "Посчитайте точность на тестовой выборке:"
      ]
    },
    {
      "cell_type": "code",
      "execution_count": null,
      "metadata": {
        "id": "1AjiYhKqO9Du",
        "pycharm": {
          "name": "#%%\n"
        },
        "colab": {
          "base_uri": "https://localhost:8080/"
        },
        "outputId": "d0a07cf7-522c-4446-c4bf-7a9e7ab20bff"
      },
      "outputs": [
        {
          "output_type": "stream",
          "name": "stdout",
          "text": [
            " accuracy: 0.7107882165605095\n"
          ]
        }
      ],
      "source": [
        "test_loss, test_acc = test(net, test_loader)\n",
        "\n",
        "print(f' accuracy: {test_acc}')"
      ]
    },
    {
      "cell_type": "markdown",
      "metadata": {
        "id": "yE0dgLYrO9Du",
        "pycharm": {
          "name": "#%% md\n"
        }
      },
      "source": [
        "**Задание 3.0 (0.5 баллов).** Здесь может возникнуть вопрос: а что будет, если мы не будем уменьшать длину шага в процессе обучения, а сразу возьмем констатную, равную значению нашей кусочно-постоянной функции на последних эпохах, то есть $0.001$ в нашем случае. Запустите обучение и проверьте, что в таком случае мы получим худшее качество на тестовой выборке."
      ]
    },
    {
      "cell_type": "code",
      "execution_count": null,
      "metadata": {
        "id": "qZ2iB-LBO9Du",
        "pycharm": {
          "name": "#%%\n"
        },
        "colab": {
          "base_uri": "https://localhost:8080/"
        },
        "outputId": "3a1a2974-d9a9-4502-fd78-45731a7e05e3"
      },
      "outputs": [
        {
          "output_type": "stream",
          "name": "stdout",
          "text": [
            "Epoch 0\n",
            " train loss: 1.812564864672952, train acc: 0.3686381888221468\n",
            " val loss: 1.5878922523336207, val acc: 0.44173315602836877\n",
            "\n",
            "Epoch 1\n",
            " train loss: 1.5108084197018221, train acc: 0.4709903042569862\n",
            " val loss: 1.439560528004423, val acc: 0.49366134751773044\n",
            "\n",
            "Epoch 2\n",
            " train loss: 1.3968267663087444, train acc: 0.5103772199007574\n",
            " val loss: 1.3642406773059925, val acc: 0.5237145390070922\n",
            "\n",
            "Epoch 3\n",
            " train loss: 1.3253626913867442, train acc: 0.5362610995037869\n",
            " val loss: 1.2921097380049684, val acc: 0.5476507092198583\n",
            "\n",
            "Epoch 4\n",
            " train loss: 1.2631294726235776, train acc: 0.5599250783494386\n",
            " val loss: 1.252762434837666, val acc: 0.5579122340425532\n",
            "\n",
            "Epoch 5\n",
            " train loss: 1.214083579711112, train acc: 0.5802551253591015\n",
            " val loss: 1.2065533904319115, val acc: 0.5782136524822694\n",
            "\n",
            "Epoch 6\n",
            " train loss: 1.167710295216039, train acc: 0.5938846630974145\n",
            " val loss: 1.1694486970597124, val acc: 0.5903590425531915\n",
            "\n",
            "Epoch 7\n",
            " train loss: 1.1284720704803954, train acc: 0.6111705079655263\n",
            " val loss: 1.1247153926402964, val acc: 0.6116799645390072\n",
            "\n",
            "Epoch 8\n",
            " train loss: 1.0942546404911788, train acc: 0.6219109101593105\n",
            " val loss: 1.0934598204937387, val acc: 0.6148049645390071\n",
            "\n",
            "Epoch 9\n",
            " train loss: 1.0662920048947309, train acc: 0.6303742817968138\n",
            " val loss: 1.0551636094742634, val acc: 0.6316267730496454\n",
            "\n",
            "Epoch 10\n",
            " train loss: 1.0442028075075236, train acc: 0.6374542961608776\n",
            " val loss: 1.0736487908566252, val acc: 0.6269725177304966\n",
            "\n",
            "Epoch 11\n",
            " train loss: 1.0263804384733686, train acc: 0.6448730086184382\n",
            " val loss: 1.0163566660373768, val acc: 0.6480053191489362\n",
            "\n",
            "Epoch 12\n",
            " train loss: 1.0055661960973163, train acc: 0.6518632475842256\n",
            " val loss: 1.0065317164076135, val acc: 0.6484264184397163\n",
            "\n",
            "Epoch 13\n",
            " train loss: 0.9925478202115465, train acc: 0.6552910355184122\n",
            " val loss: 1.0246032101042728, val acc: 0.640447695035461\n",
            "\n",
            "Epoch 14\n",
            " train loss: 0.9771998294746636, train acc: 0.661726299294855\n",
            " val loss: 0.9690233699818875, val acc: 0.6654033687943263\n",
            "\n",
            "Epoch 15\n",
            " train loss: 0.9619076318453174, train acc: 0.6684920997649516\n",
            " val loss: 0.9920570147798417, val acc: 0.6530806737588651\n",
            "\n",
            "Epoch 16\n",
            " train loss: 0.9531712705300103, train acc: 0.6726176873857403\n",
            " val loss: 0.9578457421444831, val acc: 0.6665115248226949\n",
            "\n",
            "Epoch 17\n",
            " train loss: 0.9426865321626611, train acc: 0.67612708931836\n",
            " val loss: 0.9665909665696164, val acc: 0.660970744680851\n",
            "\n",
            "Epoch 18\n",
            " train loss: 0.932819530667509, train acc: 0.6797344280490989\n",
            " val loss: 0.9564002952677139, val acc: 0.6662234042553191\n",
            "\n",
            "Epoch 19\n",
            " train loss: 0.9235448908108462, train acc: 0.683284636980935\n",
            " val loss: 0.9371386883106637, val acc: 0.674357269503546\n",
            "\n",
            " accuracy: 0.6721735668789809\n"
          ]
        }
      ],
      "source": [
        "net = BasicBlockNet().to(device)\n",
        "optimizer = optim.SGD(net.parameters(), lr=0.001, momentum=0.9)\n",
        "\n",
        "tr_loss_log, tr_acc_log, val_loss_log, val_acc_log = train(\n",
        "    net, optimizer, 20, train_loader, val_loader\n",
        ")\n",
        "\n",
        "test_loss, test_acc = test(net, test_loader)\n",
        "\n",
        "print(f' accuracy: {test_acc}')"
      ]
    },
    {
      "cell_type": "markdown",
      "metadata": {
        "id": "xVotU378O9Du",
        "pycharm": {
          "name": "#%% md\n"
        }
      },
      "source": [
        "**Задание 3.1 (1.5 балла).** Изучите, какие еще способы уменьшения длины шага представлены в <code>torch.optim.lr_scheduler</code>. Выберите несколько из них, объясните, как они устроены, и обучите модель с ними. Удалось ли добиться улучшения качества на тестовой выборке?"
      ]
    },
    {
      "cell_type": "code",
      "execution_count": null,
      "metadata": {
        "id": "nkGlzocOO9Du",
        "pycharm": {
          "name": "#%%\n"
        },
        "colab": {
          "base_uri": "https://localhost:8080/"
        },
        "outputId": "5feb9f55-eb77-48fd-a77e-7ae35c2e9a58"
      },
      "outputs": [
        {
          "output_type": "stream",
          "name": "stdout",
          "text": [
            "Epoch 0\n",
            " train loss: 1.5105375596330632, train acc: 0.4604580177592061\n",
            " val loss: 1.2845281958580017, val acc: 0.5501773049645391\n",
            "\n",
            "Epoch 1\n",
            " train loss: 1.26896281052769, train acc: 0.5534122812744843\n",
            " val loss: 1.2037535532991936, val acc: 0.5712987588652482\n",
            "\n",
            "Epoch 2\n",
            " train loss: 1.1670255526982016, train acc: 0.5940723752938104\n",
            " val loss: 1.1956665995273184, val acc: 0.5841533687943263\n",
            "\n",
            "Epoch 3\n",
            " train loss: 1.1147042877931264, train acc: 0.6150022851919561\n",
            " val loss: 1.1479290439727459, val acc: 0.6095079787234042\n",
            "\n",
            "Epoch 4\n",
            " train loss: 1.0669275092904267, train acc: 0.6302028924001044\n",
            " val loss: 1.092727766392079, val acc: 0.6181294326241136\n",
            "\n",
            "Epoch 5\n",
            " train loss: 1.0423444133571995, train acc: 0.6402495756072082\n",
            " val loss: 1.0901029992610851, val acc: 0.6327570921985817\n",
            "\n",
            "Epoch 6\n",
            " train loss: 1.0136812650743308, train acc: 0.6508879603029512\n",
            " val loss: 1.0054146363380108, val acc: 0.6518395390070922\n",
            "\n",
            "Epoch 7\n",
            " train loss: 0.9941102112668959, train acc: 0.6560786106032906\n",
            " val loss: 1.0775774445939572, val acc: 0.6308510638297873\n",
            "\n",
            "Epoch 8\n",
            " train loss: 0.9778945541904875, train acc: 0.6623098393836511\n",
            " val loss: 1.013424889838442, val acc: 0.6559175531914894\n",
            "\n",
            "Epoch 9\n",
            " train loss: 0.971753274282982, train acc: 0.664717452337425\n",
            " val loss: 0.980505332033685, val acc: 0.6657579787234043\n",
            "\n",
            "Epoch 10\n",
            " train loss: 0.7909131396623155, train acc: 0.7267930595455733\n",
            " val loss: 0.8614199974435441, val acc: 0.7042774822695035\n",
            "\n",
            "Epoch 11\n",
            " train loss: 0.7659119835065531, train acc: 0.735917504570384\n",
            " val loss: 0.863746935890076, val acc: 0.7044104609929077\n",
            "\n",
            "Epoch 12\n",
            " train loss: 0.753977591093541, train acc: 0.7391943066074693\n",
            " val loss: 0.844598846739911, val acc: 0.7098625886524822\n",
            "\n",
            "Epoch 13\n",
            " train loss: 0.748293623464417, train acc: 0.7419324562548968\n",
            " val loss: 0.8433450971512084, val acc: 0.7090868794326242\n",
            "\n",
            "Epoch 14\n",
            " train loss: 0.7436487822907498, train acc: 0.7453316792896317\n",
            " val loss: 0.839418079371148, val acc: 0.7143173758865248\n",
            "\n",
            "Epoch 15\n",
            " train loss: 0.7377360205981588, train acc: 0.7463273700705145\n",
            " val loss: 0.8418858426682493, val acc: 0.7117021276595744\n",
            "\n",
            "Epoch 16\n",
            " train loss: 0.7341182663955026, train acc: 0.747114945155393\n",
            " val loss: 0.8392035565477737, val acc: 0.7130762411347519\n",
            "\n",
            "Epoch 17\n",
            " train loss: 0.7299313720663025, train acc: 0.7481392008357274\n",
            " val loss: 0.8369828216573025, val acc: 0.7133200354609929\n",
            "\n",
            "Epoch 18\n",
            " train loss: 0.7273866215506245, train acc: 0.7481351201358057\n",
            " val loss: 0.8390659211797917, val acc: 0.7132757092198583\n",
            "\n",
            "Epoch 19\n",
            " train loss: 0.7256916843667981, train acc: 0.7499143053016454\n",
            " val loss: 0.8345858556158999, val acc: 0.714206560283688\n",
            "\n",
            " accuracy: 0.7070063694267515\n"
          ]
        }
      ],
      "source": [
        "# Из доки: https://pytorch.org/docs/stable/optim.html\n",
        "# lr_scheduler.StepLR - Decays the learning rate of each parameter group by gamma every step_size epochs.\n",
        "\n",
        "net = BasicBlockNet().to(device)\n",
        "optimizer = optim.SGD(net.parameters(), lr=0.1, momentum=0.9)\n",
        "scheduler = torch.optim.lr_scheduler.StepLR(optimizer, step_size=10, gamma=0.1)\n",
        "tr_loss_log, tr_acc_log, val_loss_log, val_acc_log = train(\n",
        "    net, optimizer, 20, train_loader, val_loader, scheduler\n",
        ")\n",
        "\n",
        "test_loss, test_acc = test(net, test_loader)\n",
        "\n",
        "print(f' accuracy: {test_acc}')"
      ]
    },
    {
      "cell_type": "code",
      "source": [
        "# lr_scheduler.ExponentialLR - Decays the learning rate of each parameter group by gamma every epoch.\n",
        "\n",
        "net = BasicBlockNet().to(device)\n",
        "optimizer = optim.SGD(net.parameters(), lr=0.1, momentum=0.9)\n",
        "scheduler = torch.optim.lr_scheduler.ExponentialLR(optimizer, gamma=0.95)\n",
        "tr_loss_log, tr_acc_log, val_loss_log, val_acc_log = train(\n",
        "    net, optimizer, 20, train_loader, val_loader, scheduler\n",
        ")\n",
        "\n",
        "test_loss, test_acc = test(net, test_loader)\n",
        "\n",
        "print(f' accuracy: {test_acc}')\n"
      ],
      "metadata": {
        "colab": {
          "base_uri": "https://localhost:8080/"
        },
        "id": "8FlnnKZkvvde",
        "outputId": "da26e3c7-3c43-470d-eed4-9b8e8bd6d48c"
      },
      "execution_count": null,
      "outputs": [
        {
          "output_type": "stream",
          "name": "stdout",
          "text": [
            "Epoch 0\n",
            " train loss: 1.4710546072701867, train acc: 0.48000457038391225\n",
            " val loss: 1.3437857338722716, val acc: 0.5322695035460993\n",
            "\n",
            "Epoch 1\n",
            " train loss: 1.2208698762400276, train acc: 0.5708368699399321\n",
            " val loss: 1.1731222238946468, val acc: 0.5902039007092199\n",
            "\n",
            "Epoch 2\n",
            " train loss: 1.1208471113192753, train acc: 0.6117499673544006\n",
            " val loss: 1.095854227086331, val acc: 0.6087544326241136\n",
            "\n",
            "Epoch 3\n",
            " train loss: 1.0708569060513917, train acc: 0.6262446134761034\n",
            " val loss: 1.098961298516456, val acc: 0.6194813829787233\n",
            "\n",
            "Epoch 4\n",
            " train loss: 1.024929726581469, train acc: 0.6431917602507182\n",
            " val loss: 1.0276264408801465, val acc: 0.6421764184397162\n",
            "\n",
            "Epoch 5\n",
            " train loss: 0.9896003236718326, train acc: 0.6568049751893446\n",
            " val loss: 1.033443047898881, val acc: 0.6484707446808511\n",
            "\n",
            "Epoch 6\n",
            " train loss: 0.9617253799107218, train acc: 0.6669618372943327\n",
            " val loss: 0.9949394170274126, val acc: 0.6590425531914894\n",
            "\n",
            "Epoch 7\n",
            " train loss: 0.9367619455950351, train acc: 0.6735766518673283\n",
            " val loss: 0.9956737198728196, val acc: 0.656781914893617\n",
            "\n",
            "Epoch 8\n",
            " train loss: 0.9225386528253992, train acc: 0.6787387372682162\n",
            " val loss: 0.9658736292352068, val acc: 0.6691489361702128\n",
            "\n",
            "Epoch 9\n",
            " train loss: 0.8938540255674714, train acc: 0.6903891355445285\n",
            " val loss: 0.9383869812843647, val acc: 0.682668439716312\n",
            "\n",
            "Epoch 10\n",
            " train loss: 0.882602608018645, train acc: 0.6917969770174981\n",
            " val loss: 0.9962901346226956, val acc: 0.6554299645390071\n",
            "\n",
            "Epoch 11\n",
            " train loss: 0.8781170869004356, train acc: 0.6960939540349962\n",
            " val loss: 0.9273751984251306, val acc: 0.6815159574468085\n",
            "\n",
            "Epoch 12\n",
            " train loss: 0.8571837926913441, train acc: 0.7006969835466179\n",
            " val loss: 0.9518837162788878, val acc: 0.6745789007092199\n",
            "\n",
            "Epoch 13\n",
            " train loss: 0.8446837365627289, train acc: 0.7068792439279186\n",
            " val loss: 0.9744253508588101, val acc: 0.6680629432624114\n",
            "\n",
            "Epoch 14\n",
            " train loss: 0.8306979157262137, train acc: 0.7122698485244189\n",
            " val loss: 0.901853210368055, val acc: 0.6947473404255319\n",
            "\n",
            "Epoch 15\n",
            " train loss: 0.8150390538044778, train acc: 0.7174604988247585\n",
            " val loss: 0.886491456691255, val acc: 0.6975177304964539\n",
            "\n",
            "Epoch 16\n",
            " train loss: 0.8026110089675164, train acc: 0.7225981000261165\n",
            " val loss: 0.9138057663085613, val acc: 0.6890514184397162\n",
            "\n",
            "Epoch 17\n",
            " train loss: 0.7891884115975779, train acc: 0.7288823779054584\n",
            " val loss: 0.8846868573351109, val acc: 0.7010859929078014\n",
            "\n",
            "Epoch 18\n",
            " train loss: 0.7804386635911966, train acc: 0.7294781600940193\n",
            " val loss: 0.8834001764338067, val acc: 0.6974290780141843\n",
            "\n",
            "Epoch 19\n",
            " train loss: 0.7733472591671255, train acc: 0.7309594541655785\n",
            " val loss: 0.8773029233546967, val acc: 0.7000664893617021\n",
            "\n",
            " accuracy: 0.6961584394904459\n"
          ]
        }
      ]
    },
    {
      "cell_type": "code",
      "source": [
        "# lr_scheduler.ReduceLROnPlateau - Reduce learning rate when a metric has stopped improving.\n",
        "# возьму код из функции, чтобы передать метрику в шаг - scheduler.step(val_loss)\n",
        "\n",
        "train_loss_log, train_acc_log, val_loss_log, val_acc_log = [], [], [], []\n",
        "\n",
        "\n",
        "net = BasicBlockNet().to(device)\n",
        "optimizer = optim.SGD(net.parameters(), lr=0.1, momentum=0.9)\n",
        "scheduler = torch.optim.lr_scheduler.ReduceLROnPlateau(optimizer, mode='min', factor=0.1, patience=5)\n",
        "\n",
        "for epoch in range(20):\n",
        "  train_loss, train_acc = train_epoch(net, optimizer, train_loader)\n",
        "  val_loss, val_acc = test(net, val_loader)\n",
        "\n",
        "  train_loss_log.extend(train_loss)\n",
        "  train_acc_log.extend(train_acc)\n",
        "\n",
        "  val_loss_log.append(val_loss)\n",
        "  val_acc_log.append(val_acc)\n",
        "\n",
        "  print(f\"Epoch {epoch}\")\n",
        "  print(f\" train loss: {np.mean(train_loss)}, train acc: {np.mean(train_acc)}\")\n",
        "  print(f\" val loss: {val_loss}, val acc: {val_acc}\\n\")\n",
        "\n",
        "  scheduler.step(val_loss)\n",
        "\n",
        "\n",
        "test_loss, test_acc = test(net, test_loader)\n",
        "\n",
        "print(f' accuracy: {test_acc}')\n"
      ],
      "metadata": {
        "colab": {
          "base_uri": "https://localhost:8080/"
        },
        "id": "wcvcxRnrwas_",
        "outputId": "5af8aa74-ce4f-47e8-bfed-ca981829568b"
      },
      "execution_count": null,
      "outputs": [
        {
          "output_type": "stream",
          "name": "stdout",
          "text": [
            "Epoch 0\n",
            " train loss: 1.5078165349184487, train acc: 0.46617099764951686\n",
            " val loss: 1.2796464635970746, val acc: 0.5455230496453901\n",
            "\n",
            "Epoch 1\n",
            " train loss: 1.2269039944059452, train acc: 0.5698534212588143\n",
            " val loss: 1.164423036828954, val acc: 0.5883421985815603\n",
            "\n",
            "Epoch 2\n",
            " train loss: 1.1480706712227635, train acc: 0.5998792112823191\n",
            " val loss: 1.058296946769065, val acc: 0.633200354609929\n",
            "\n",
            "Epoch 3\n",
            " train loss: 1.0926222969016819, train acc: 0.6215926155654218\n",
            " val loss: 1.0694870000189922, val acc: 0.625177304964539\n",
            "\n",
            "Epoch 4\n",
            " train loss: 1.0510322423260217, train acc: 0.6385071167406634\n",
            " val loss: 1.0232451636740503, val acc: 0.6462101063829787\n",
            "\n",
            "Epoch 5\n",
            " train loss: 1.0257393390866476, train acc: 0.6454769522068425\n",
            " val loss: 1.0697005058856721, val acc: 0.6351507092198583\n",
            "\n",
            "Epoch 6\n",
            " train loss: 1.014825052600456, train acc: 0.6503085009140768\n",
            " val loss: 1.034954365263594, val acc: 0.6383200354609928\n",
            "\n",
            "Epoch 7\n",
            " train loss: 0.9888220173349328, train acc: 0.658959584747976\n",
            " val loss: 1.0494542007750653, val acc: 0.6414007092198583\n",
            "\n",
            "Epoch 8\n",
            " train loss: 0.9857583663799209, train acc: 0.6605143314181248\n",
            " val loss: 1.0362316656619945, val acc: 0.654543439716312\n",
            "\n",
            "Epoch 9\n",
            " train loss: 0.9580931108873985, train acc: 0.6697938430399581\n",
            " val loss: 0.9841648520307338, val acc: 0.6673537234042554\n",
            "\n",
            "Epoch 10\n",
            " train loss: 0.9486695115047573, train acc: 0.6733766975711674\n",
            " val loss: 1.0192558232774125, val acc: 0.6526374113475178\n",
            "\n",
            "Epoch 11\n",
            " train loss: 0.9432985326053891, train acc: 0.6750783494384957\n",
            " val loss: 1.007388070035488, val acc: 0.6530141843971631\n",
            "\n",
            "Epoch 12\n",
            " train loss: 0.9289756354073938, train acc: 0.6794406176547402\n",
            " val loss: 0.9935178756713867, val acc: 0.6614583333333333\n",
            "\n",
            "Epoch 13\n",
            " train loss: 0.924389719036859, train acc: 0.6815054518150953\n",
            " val loss: 0.9614959901951728, val acc: 0.6727615248226949\n",
            "\n",
            "Epoch 14\n",
            " train loss: 0.9147650808150415, train acc: 0.6851862431444241\n",
            " val loss: 0.9584161743204644, val acc: 0.6749335106382979\n",
            "\n",
            "Epoch 15\n",
            " train loss: 0.919718337887166, train acc: 0.6831254896839907\n",
            " val loss: 1.0162569312339134, val acc: 0.657668439716312\n",
            "\n",
            "Epoch 16\n",
            " train loss: 0.8982981477184749, train acc: 0.6892873465656829\n",
            " val loss: 0.9679149569349086, val acc: 0.6697916666666668\n",
            "\n",
            "Epoch 17\n",
            " train loss: 0.8966394397523765, train acc: 0.691715363019065\n",
            " val loss: 0.9912826771431781, val acc: 0.66875\n",
            "\n",
            "Epoch 18\n",
            " train loss: 0.8865346852451618, train acc: 0.6966162836249673\n",
            " val loss: 1.0632455541732464, val acc: 0.6384308510638298\n",
            "\n",
            "Epoch 19\n",
            " train loss: 0.8818099765716567, train acc: 0.6992932227735702\n",
            " val loss: 0.9617012171035118, val acc: 0.676174645390071\n",
            "\n",
            " accuracy: 0.6703821656050956\n"
          ]
        }
      ]
    },
    {
      "cell_type": "markdown",
      "metadata": {
        "id": "5a_zMNNVO9Du",
        "pycharm": {
          "name": "#%% md\n"
        }
      },
      "source": [
        "Your answers here:\n",
        "- **StepLR** снижает lr на каждом шаге после некоторого числа эпох (step_size) на фиксированный коэффициент.\n",
        "- **ExponentialLR** снижает lr экспоненциально в ходе обучения. Степень гаммы зависит от шага.\n",
        "- **ReduceLROnPlateau** уменьшает lr, когда метрика перестает улучшаться. Можно отрегулировать количество эпох без улучшений, после которых шаг уменьшится. Также можно выбрать потерю или точность.\n",
        "\n",
        "В моем случае лучший результат показал MultiStepLR (самый первый тест), после него StepLR."
      ]
    },
    {
      "cell_type": "markdown",
      "metadata": {
        "id": "7xFXgl_3_E--",
        "pycharm": {
          "name": "#%% md\n"
        }
      },
      "source": [
        "## 4. Аугментации данных (2 балла)"
      ]
    },
    {
      "cell_type": "markdown",
      "metadata": {
        "id": "5G0Easo9O9Du",
        "pycharm": {
          "name": "#%% md\n"
        }
      },
      "source": [
        "Еще одной стандартной техникой, применяющейся в глубинном обучении, а особенно часто в компьютерном зрении, являются аугментации данных. Суть аугментаций состоит в том, что мы можем некоторым синтетическим образом видоизменять объекты обучающей выборки, тем самым расширяя ее, а также делая итоговую модель более устойчивой к таким изменениям.\n",
        "\n",
        "Простейшая аугментация, которую можно применить к картинкам — разворот картинки по горизонтальной оси. То есть при обучении модели с вероятностью $0.5$ мы будем разворачивать картинку из обучающей выборки."
      ]
    },
    {
      "cell_type": "code",
      "execution_count": null,
      "metadata": {
        "id": "SzeFpgtfO9Du",
        "pycharm": {
          "name": "#%%\n"
        },
        "colab": {
          "base_uri": "https://localhost:8080/",
          "height": 369
        },
        "outputId": "fe6e2bdc-a430-470a-b5d7-c855deeb4632"
      },
      "outputs": [
        {
          "output_type": "display_data",
          "data": {
            "text/plain": [
              "<Figure size 640x480 with 1 Axes>"
            ],
            "image/png": "[encoded data removed]"
          },
          "metadata": {}
        },
        {
          "output_type": "display_data",
          "data": {
            "text/plain": [
              "<Figure size 640x480 with 1 Axes>"
            ],
            "image/png": "[encoded data removed]"
          },
          "metadata": {}
        }
      ],
      "source": [
        "dataiter = iter(train_loader)\n",
        "images, labels = next(dataiter)\n",
        "\n",
        "imshow(torchvision.utils.make_grid(images[:4]))\n",
        "\n",
        "imshow(torchvision.utils.make_grid(transforms.functional.hflip(images[:4])))"
      ]
    },
    {
      "cell_type": "markdown",
      "metadata": {
        "id": "BR4a-XJQO9Du",
        "pycharm": {
          "name": "#%% md\n"
        }
      },
      "source": [
        "Наиболее удобным способом работы с аугментациями в PyTorch является их задание в списке <code>transforms</code>, который затем передается в загрузчик данных. Обучим нашу сеть, применяя горизонтальные повороты:"
      ]
    },
    {
      "cell_type": "code",
      "execution_count": null,
      "metadata": {
        "id": "na0ScBf-_AqX",
        "pycharm": {
          "name": "#%%\n"
        },
        "scrolled": true,
        "colab": {
          "base_uri": "https://localhost:8080/"
        },
        "outputId": "6a8ae25e-8fec-4e94-f6b5-0d49d37596bd"
      },
      "outputs": [
        {
          "output_type": "stream",
          "name": "stdout",
          "text": [
            "Epoch 0\n",
            " train loss: 1.4892525618429375, train acc: 0.47044349046748496\n",
            " val loss: 1.279833294990215, val acc: 0.5495345744680851\n",
            "\n",
            "Epoch 1\n",
            " train loss: 1.2364336051714269, train acc: 0.5661155001305823\n",
            " val loss: 1.1527408112870885, val acc: 0.5983820921985816\n",
            "\n",
            "Epoch 2\n",
            " train loss: 1.1516102606897163, train acc: 0.599226299294855\n",
            " val loss: 1.0748001205160262, val acc: 0.6224290780141843\n",
            "\n",
            "Epoch 3\n",
            " train loss: 1.0898460606334415, train acc: 0.6230208605379995\n",
            " val loss: 1.0412818865573152, val acc: 0.6420656028368795\n",
            "\n",
            "Epoch 4\n",
            " train loss: 1.0600101967398383, train acc: 0.6324064703577957\n",
            " val loss: 1.155141383029045, val acc: 0.609264184397163\n",
            "\n",
            "Epoch 5\n",
            " train loss: 1.0320152446382442, train acc: 0.6429428375554974\n",
            " val loss: 1.0632647420497652, val acc: 0.628656914893617\n",
            "\n",
            "Epoch 6\n",
            " train loss: 1.0202181463485662, train acc: 0.6462726886915644\n",
            " val loss: 1.0151620238385302, val acc: 0.6475620567375886\n",
            "\n",
            "Epoch 7\n",
            " train loss: 1.0073531937991462, train acc: 0.6524345455732568\n",
            " val loss: 1.0162589377545297, val acc: 0.6544547872340426\n",
            "\n",
            "Epoch 8\n",
            " train loss: 1.00070064998414, train acc: 0.6551359689213894\n",
            " val loss: 0.9953165320639915, val acc: 0.6578679078014184\n",
            "\n",
            "Epoch 9\n",
            " train loss: 0.9802513161786514, train acc: 0.6608693523113085\n",
            " val loss: 0.9820720292152243, val acc: 0.6678413120567375\n",
            "\n",
            "Epoch 10\n",
            " train loss: 0.8236409493294669, train acc: 0.7187785648994516\n",
            " val loss: 0.8496110971937788, val acc: 0.7079122340425532\n",
            "\n",
            "Epoch 11\n",
            " train loss: 0.7950497653737146, train acc: 0.7265155719509011\n",
            " val loss: 0.8376304601101165, val acc: 0.7127881205673758\n",
            "\n",
            "Epoch 12\n",
            " train loss: 0.7825371466672398, train acc: 0.7307921454687908\n",
            " val loss: 0.8359248785262412, val acc: 0.7123005319148936\n",
            "\n",
            "Epoch 13\n",
            " train loss: 0.7771687628037315, train acc: 0.733522133716375\n",
            " val loss: 0.8183459169053017, val acc: 0.7175975177304965\n",
            "\n",
            "Epoch 14\n",
            " train loss: 0.7702933341755074, train acc: 0.7359215852703055\n",
            " val loss: 0.8173318526846297, val acc: 0.7170656028368795\n",
            "\n",
            "Epoch 15\n",
            " train loss: 0.7518838849974289, train acc: 0.7422181052494123\n",
            " val loss: 0.806715678154154, val acc: 0.7242464539007093\n",
            "\n",
            "Epoch 16\n",
            " train loss: 0.7438606535930739, train acc: 0.7452908722904152\n",
            " val loss: 0.8025897188389555, val acc: 0.722517730496454\n",
            "\n",
            "Epoch 17\n",
            " train loss: 0.7458767830998632, train acc: 0.7452337424915121\n",
            " val loss: 0.801984145159417, val acc: 0.7231382978723404\n",
            "\n",
            "Epoch 18\n",
            " train loss: 0.7448488014598651, train acc: 0.744348230608514\n",
            " val loss: 0.798139159349685, val acc: 0.7231382978723404\n",
            "\n",
            "Epoch 19\n",
            " train loss: 0.7440189954567653, train acc: 0.7445196200052232\n",
            " val loss: 0.800610688011697, val acc: 0.7246232269503545\n",
            "\n"
          ]
        }
      ],
      "source": [
        "transform = transforms.Compose(\n",
        "    [\n",
        "        transforms.RandomHorizontalFlip(),\n",
        "        transforms.ToTensor(),\n",
        "        transforms.Normalize((0.5, 0.5, 0.5), (0.5, 0.5, 0.5)),\n",
        "    ]\n",
        ")\n",
        "\n",
        "train_loader, val_loader, test_loader = get_cifar10_data(\n",
        "    batch_size=64, transform_train=transform\n",
        ")\n",
        "\n",
        "net = BasicBlockNet().to(device)\n",
        "optimizer = optim.SGD(net.parameters(), lr=0.1, momentum=0.9)\n",
        "scheduler = optim.lr_scheduler.MultiStepLR(optimizer, milestones=[10, 15], gamma=0.1)\n",
        "tr_loss_log, tr_acc_log, val_loss_log, val_acc_log = train(\n",
        "    net, optimizer, 20, train_loader, val_loader, scheduler\n",
        ")"
      ]
    },
    {
      "cell_type": "markdown",
      "metadata": {
        "id": "v3ZIqDQqO9Dv",
        "pycharm": {
          "name": "#%% md\n"
        }
      },
      "source": [
        "Посчитайте точность на тестовой выборке:"
      ]
    },
    {
      "cell_type": "code",
      "execution_count": null,
      "metadata": {
        "id": "nNJizMkM_Auh",
        "pycharm": {
          "name": "#%%\n"
        },
        "colab": {
          "base_uri": "https://localhost:8080/"
        },
        "outputId": "3a5b7d54-dd15-4759-ace6-551297e54c92"
      },
      "outputs": [
        {
          "output_type": "stream",
          "name": "stdout",
          "text": [
            " accuracy: 0.7191480891719745\n"
          ]
        }
      ],
      "source": [
        "test_loss, test_acc = test(net, test_loader)\n",
        "\n",
        "print(f' accuracy: {test_acc}')"
      ]
    },
    {
      "cell_type": "markdown",
      "metadata": {
        "id": "KndehSCHO9Dv",
        "pycharm": {
          "name": "#%% md\n"
        }
      },
      "source": [
        "**Задание 4.1 (2 балла).** Изучите, какие еще способы аугментаций изображений представлены в <code>torchvision.transforms</code>. Выберите несколько из них, объясните, как они устроены, и обучите модель с ними (по отдельности и вместе). Удалось ли добиться улучшения качества на тестовой выборке?"
      ]
    },
    {
      "cell_type": "code",
      "execution_count": null,
      "metadata": {
        "id": "Np4rgvdZ_QRF",
        "pycharm": {
          "name": "#%%\n"
        },
        "colab": {
          "base_uri": "https://localhost:8080/"
        },
        "outputId": "4e001a56-ded1-441d-9fee-9e8fccec9f99"
      },
      "outputs": [
        {
          "output_type": "stream",
          "name": "stdout",
          "text": [
            "Epoch 0\n",
            " train loss: 1.6058810343472134, train acc: 0.4265025137111517\n",
            " val loss: 1.3923022914440073, val acc: 0.4990691489361702\n",
            "\n",
            "Epoch 1\n",
            " train loss: 1.4086777442552054, train acc: 0.4969966048576652\n",
            " val loss: 1.3616827528527442, val acc: 0.5173093971631205\n",
            "\n",
            "Epoch 2\n",
            " train loss: 1.3427608430494555, train acc: 0.525655360407417\n",
            " val loss: 1.315823131165606, val acc: 0.5338209219858157\n",
            "\n",
            "Epoch 3\n",
            " train loss: 1.2994851388268758, train acc: 0.5400765539305301\n",
            " val loss: 1.326707554370799, val acc: 0.5382092198581561\n",
            "\n",
            "Epoch 4\n",
            " train loss: 1.2816016829863763, train acc: 0.5484909571689736\n",
            " val loss: 1.2133203270587516, val acc: 0.5690381205673758\n",
            "\n",
            "Epoch 5\n",
            " train loss: 1.2339718086845914, train acc: 0.5642587816662313\n",
            " val loss: 1.224657841185306, val acc: 0.5728501773049646\n",
            "\n",
            "Epoch 6\n",
            " train loss: 1.2309139442836128, train acc: 0.5699921650561505\n",
            " val loss: 1.269396115617549, val acc: 0.5498448581560285\n",
            "\n",
            "Epoch 7\n",
            " train loss: 1.22441818966944, train acc: 0.5706328349438495\n",
            " val loss: 1.206603195565812, val acc: 0.5744459219858157\n",
            "\n",
            "Epoch 8\n",
            " train loss: 1.207848387291924, train acc: 0.5762519587359625\n",
            " val loss: 1.2150971039812615, val acc: 0.5705673758865247\n",
            "\n",
            "Epoch 9\n",
            " train loss: 1.1925977882563088, train acc: 0.5832013907025333\n",
            " val loss: 1.2039770483970642, val acc: 0.5853280141843971\n",
            "\n",
            "Epoch 10\n",
            " train loss: 1.0269363567205845, train acc: 0.6365443000783494\n",
            " val loss: 1.0354355606626957, val acc: 0.6352393617021277\n",
            "\n",
            "Epoch 11\n",
            " train loss: 1.0050238552869346, train acc: 0.6474030425698616\n",
            " val loss: 1.0206587905579425, val acc: 0.6482712765957447\n",
            "\n",
            "Epoch 12\n",
            " train loss: 0.9919046141765672, train acc: 0.6529283102637765\n",
            " val loss: 1.0146548895125693, val acc: 0.6420212765957447\n",
            "\n",
            "Epoch 13\n",
            " train loss: 0.9882461630230194, train acc: 0.6524100613737268\n",
            " val loss: 1.010621406169648, val acc: 0.6443484042553191\n",
            "\n",
            "Epoch 14\n",
            " train loss: 0.9778494595173726, train acc: 0.6570171715852704\n",
            " val loss: 1.0124145071557227, val acc: 0.6458998226950354\n",
            "\n",
            "Epoch 15\n",
            " train loss: 0.9612804717729907, train acc: 0.6633993862627318\n",
            " val loss: 0.9931550566186296, val acc: 0.6521719858156029\n",
            "\n",
            "Epoch 16\n",
            " train loss: 0.9592818213555233, train acc: 0.665533592321755\n",
            " val loss: 0.9857580131672798, val acc: 0.6560948581560284\n",
            "\n",
            "Epoch 17\n",
            " train loss: 0.9541246883394078, train acc: 0.6659294202141552\n",
            " val loss: 0.9915140798751344, val acc: 0.6554078014184397\n",
            "\n",
            "Epoch 18\n",
            " train loss: 0.9529876139089873, train acc: 0.6670965003917472\n",
            " val loss: 0.986832191335394, val acc: 0.6557845744680851\n",
            "\n",
            "Epoch 19\n",
            " train loss: 0.9531196396137286, train acc: 0.6655254309219117\n",
            " val loss: 0.9851371493745358, val acc: 0.6569370567375886\n",
            "\n",
            " accuracy: 0.6806329617834395\n"
          ]
        }
      ],
      "source": [
        "# Из доки: https://pytorch.org/vision/0.9/transforms.html\n",
        "# RandomRotation - Rotate the image by angle\n",
        "\n",
        "transform_rotation = transforms.Compose(\n",
        "    [\n",
        "        transforms.RandomRotation(degrees=30),\n",
        "        transforms.ToTensor(),\n",
        "        transforms.Normalize((0.5, 0.5, 0.5), (0.5, 0.5, 0.5)),\n",
        "    ]\n",
        ")\n",
        "\n",
        "train_loader, val_loader, test_loader = get_cifar10_data(\n",
        "    batch_size=64, transform_train=transform_rotation\n",
        ")\n",
        "\n",
        "net = BasicBlockNet().to(device)\n",
        "optimizer = optim.SGD(net.parameters(), lr=0.1, momentum=0.9)\n",
        "scheduler = optim.lr_scheduler.MultiStepLR(optimizer, milestones=[10, 15], gamma=0.1)\n",
        "tr_loss_log, tr_acc_log, val_loss_log, val_acc_log = train(\n",
        "    net, optimizer, 20, train_loader, val_loader, scheduler\n",
        ")\n",
        "\n",
        "test_loss, test_acc = test(net, test_loader)\n",
        "\n",
        "print(f' accuracy: {test_acc}')"
      ]
    },
    {
      "cell_type": "code",
      "source": [
        "# RandomResizedCrop - Crop the given image to random size and aspect ratio.\n",
        "\n",
        "transform_resized_crop = transforms.Compose(\n",
        "    [\n",
        "        transforms.RandomResizedCrop(size=32, scale=(0.8, 1.0)),\n",
        "        transforms.ToTensor(),\n",
        "        transforms.Normalize((0.5, 0.5, 0.5), (0.5, 0.5, 0.5)),\n",
        "    ]\n",
        ")\n",
        "\n",
        "train_loader, val_loader, test_loader = get_cifar10_data(\n",
        "    batch_size=64, transform_train=transform_resized_crop\n",
        ")\n",
        "\n",
        "net = BasicBlockNet().to(device)\n",
        "optimizer = optim.SGD(net.parameters(), lr=0.1, momentum=0.9)\n",
        "scheduler = optim.lr_scheduler.MultiStepLR(optimizer, milestones=[10, 15], gamma=0.1)\n",
        "tr_loss_log, tr_acc_log, val_loss_log, val_acc_log = train(\n",
        "    net, optimizer, 20, train_loader, val_loader, scheduler\n",
        ")\n",
        "\n",
        "test_loss, test_acc = test(net, test_loader)\n",
        "\n",
        "print(f' accuracy: {test_acc}')"
      ],
      "metadata": {
        "colab": {
          "base_uri": "https://localhost:8080/"
        },
        "id": "-mK40_Kg4lHD",
        "outputId": "98c063ea-3eac-4099-a325-5f8362e95d4f"
      },
      "execution_count": null,
      "outputs": [
        {
          "output_type": "stream",
          "name": "stdout",
          "text": [
            "Epoch 0\n",
            " train loss: 1.554202446771932, train acc: 0.44782417080177594\n",
            " val loss: 1.3344574243464369, val acc: 0.5314494680851064\n",
            "\n",
            "Epoch 1\n",
            " train loss: 1.3186091003731792, train acc: 0.535326619221729\n",
            " val loss: 1.2879074111897895, val acc: 0.5547429078014183\n",
            "\n",
            "Epoch 2\n",
            " train loss: 1.2595710890602585, train acc: 0.5621857861060329\n",
            " val loss: 1.2311779473690276, val acc: 0.5722517730496455\n",
            "\n",
            "Epoch 3\n",
            " train loss: 1.2094063954989696, train acc: 0.5809406829459388\n",
            " val loss: 1.1635639599029055, val acc: 0.5936835106382978\n",
            "\n",
            "Epoch 4\n",
            " train loss: 1.1828942709692654, train acc: 0.589861092974667\n",
            " val loss: 1.158782859305118, val acc: 0.5972739361702127\n",
            "\n",
            "Epoch 5\n",
            " train loss: 1.1426048802937188, train acc: 0.60302135022199\n",
            " val loss: 1.344417127396198, val acc: 0.5489804964539008\n",
            "\n",
            "Epoch 6\n",
            " train loss: 1.131032704871141, train acc: 0.6108603747714808\n",
            " val loss: 1.1296968680747013, val acc: 0.6106161347517731\n",
            "\n",
            "Epoch 7\n",
            " train loss: 1.1205134757911919, train acc: 0.6123947179420214\n",
            " val loss: 1.1073555997077456, val acc: 0.6159131205673758\n",
            "\n",
            "Epoch 8\n",
            " train loss: 1.1167800719602887, train acc: 0.6132353421258814\n",
            " val loss: 1.1290798595611085, val acc: 0.6077127659574468\n",
            "\n",
            "Epoch 9\n",
            " train loss: 1.0932996456104398, train acc: 0.6210376403760773\n",
            " val loss: 1.1664635716600622, val acc: 0.6100842198581561\n",
            "\n",
            "Epoch 10\n",
            " train loss: 0.9255226785129778, train acc: 0.6785387829720554\n",
            " val loss: 0.9633417667226588, val acc: 0.6688164893617021\n",
            "\n",
            "Epoch 11\n",
            " train loss: 0.8859981357288534, train acc: 0.6929354922956386\n",
            " val loss: 0.9411599983560278, val acc: 0.676529255319149\n",
            "\n",
            "Epoch 12\n",
            " train loss: 0.8798534808036832, train acc: 0.6964979433272395\n",
            " val loss: 0.9425268327936213, val acc: 0.6778812056737588\n",
            "\n",
            "Epoch 13\n",
            " train loss: 0.8702524925498684, train acc: 0.6994850156698876\n",
            " val loss: 0.9276739282810942, val acc: 0.6823803191489362\n",
            "\n",
            "Epoch 14\n",
            " train loss: 0.8623496236269391, train acc: 0.7013866218333769\n",
            " val loss: 0.9271378702305733, val acc: 0.6814051418439715\n",
            "\n",
            "Epoch 15\n",
            " train loss: 0.843144653484198, train acc: 0.7079810329067642\n",
            " val loss: 0.9113785774149793, val acc: 0.6879432624113476\n",
            "\n",
            "Epoch 16\n",
            " train loss: 0.8391682056665857, train acc: 0.7081605837033168\n",
            " val loss: 0.9122803893495113, val acc: 0.6879654255319149\n",
            "\n",
            "Epoch 17\n",
            " train loss: 0.8382043514325807, train acc: 0.7112415121441629\n",
            " val loss: 0.914370421906735, val acc: 0.6837765957446809\n",
            "\n",
            "Epoch 18\n",
            " train loss: 0.8312868684039909, train acc: 0.71155572603813\n",
            " val loss: 0.9146928541203763, val acc: 0.6851507092198582\n",
            "\n",
            "Epoch 19\n",
            " train loss: 0.8354499473541267, train acc: 0.7110333964481589\n",
            " val loss: 0.9088356882967847, val acc: 0.6876329787234042\n",
            "\n",
            " accuracy: 0.6869028662420382\n"
          ]
        }
      ]
    },
    {
      "cell_type": "code",
      "source": [
        "# RandomAffine - Random affine transformation of the image keeping center invariant.\n",
        "\n",
        "transform_affine = transforms.Compose(\n",
        "    [\n",
        "        transforms.RandomAffine(degrees=30, translate=(0.1, 0.1), scale=(0.8, 1.2)),\n",
        "        transforms.ToTensor(),\n",
        "        transforms.Normalize((0.5, 0.5, 0.5), (0.5, 0.5, 0.5)),\n",
        "    ]\n",
        ")\n",
        "\n",
        "train_loader, val_loader, test_loader = get_cifar10_data(\n",
        "    batch_size=64, transform_train=transform_affine\n",
        ")\n",
        "\n",
        "net = BasicBlockNet().to(device)\n",
        "optimizer = optim.SGD(net.parameters(), lr=0.1, momentum=0.9)\n",
        "scheduler = optim.lr_scheduler.MultiStepLR(optimizer, milestones=[10, 15], gamma=0.1)\n",
        "tr_loss_log, tr_acc_log, val_loss_log, val_acc_log = train(\n",
        "    net, optimizer, 20, train_loader, val_loader, scheduler\n",
        ")\n",
        "\n",
        "test_loss, test_acc = test(net, test_loader)\n",
        "\n",
        "print(f' accuracy: {test_acc}')"
      ],
      "metadata": {
        "colab": {
          "base_uri": "https://localhost:8080/"
        },
        "id": "Yvzf6jHK5DSA",
        "outputId": "180afa4b-008b-457a-c52c-bd148fe87aa2"
      },
      "execution_count": null,
      "outputs": [
        {
          "output_type": "stream",
          "name": "stdout",
          "text": [
            "Epoch 0\n",
            " train loss: 1.7428629206565005, train acc: 0.3749918386001567\n",
            " val loss: 1.5541558027267457, val acc: 0.4377437943262411\n",
            "\n",
            "Epoch 1\n",
            " train loss: 1.5589391729731445, train acc: 0.4426212784016714\n",
            " val loss: 1.6171472990766484, val acc: 0.43785460992907804\n",
            "\n",
            "Epoch 2\n",
            " train loss: 1.4996455247485005, train acc: 0.4667667798380778\n",
            " val loss: 1.4647408629985565, val acc: 0.4822916666666666\n",
            "\n",
            "Epoch 3\n",
            " train loss: 1.4617694875657885, train acc: 0.47975564768869156\n",
            " val loss: 1.377224835436395, val acc: 0.5089760638297872\n",
            "\n",
            "Epoch 4\n",
            " train loss: 1.4259939043351892, train acc: 0.4921446526508227\n",
            " val loss: 1.409571312843485, val acc: 0.5079787234042553\n",
            "\n",
            "Epoch 5\n",
            " train loss: 1.3861948406456592, train acc: 0.5077329263515278\n",
            " val loss: 1.3980539869754873, val acc: 0.5058510638297873\n",
            "\n",
            "Epoch 6\n",
            " train loss: 1.3839940349188322, train acc: 0.5126012013580569\n",
            " val loss: 1.3969508985255628, val acc: 0.5082446808510638\n",
            "\n",
            "Epoch 7\n",
            " train loss: 1.3741256439925549, train acc: 0.5176490271611387\n",
            " val loss: 1.338379468816392, val acc: 0.5255540780141844\n",
            "\n",
            "Epoch 8\n",
            " train loss: 1.3434648011458639, train acc: 0.5254145991120397\n",
            " val loss: 1.3690830497031516, val acc: 0.5149379432624113\n",
            "\n",
            "Epoch 9\n",
            " train loss: 1.337249600691159, train acc: 0.5252676939148603\n",
            " val loss: 1.3221786892160456, val acc: 0.538386524822695\n",
            "\n",
            "Epoch 10\n",
            " train loss: 1.1656726974673854, train acc: 0.5884165252024027\n",
            " val loss: 1.1627571417930278, val acc: 0.5905141843971631\n",
            "\n",
            "Epoch 11\n",
            " train loss: 1.1328798063930254, train acc: 0.6006096565682946\n",
            " val loss: 1.1294264927823492, val acc: 0.601174645390071\n",
            "\n",
            "Epoch 12\n",
            " train loss: 1.1235794706144107, train acc: 0.6045720161922173\n",
            " val loss: 1.1261626309536874, val acc: 0.6026595744680852\n",
            "\n",
            "Epoch 13\n",
            " train loss: 1.112773910518974, train acc: 0.6087057652128492\n",
            " val loss: 1.1107765060790042, val acc: 0.6147163120567375\n",
            "\n",
            "Epoch 14\n",
            " train loss: 1.1129222573266386, train acc: 0.6090036563071298\n",
            " val loss: 1.1373933127585878, val acc: 0.6048537234042554\n",
            "\n",
            "Epoch 15\n",
            " train loss: 1.0900338719270346, train acc: 0.6139861909114651\n",
            " val loss: 1.0905875946613068, val acc: 0.6122783687943263\n",
            "\n",
            "Epoch 16\n",
            " train loss: 1.0783024003126505, train acc: 0.6207683141812484\n",
            " val loss: 1.093691118727339, val acc: 0.6145168439716311\n",
            "\n",
            "Epoch 17\n",
            " train loss: 1.0853946360417215, train acc: 0.6190829851136067\n",
            " val loss: 1.0859780311584473, val acc: 0.6189494680851064\n",
            "\n",
            "Epoch 18\n",
            " train loss: 1.078361066429445, train acc: 0.6213192086706711\n",
            " val loss: 1.0882867295691308, val acc: 0.6198803191489362\n",
            "\n",
            "Epoch 19\n",
            " train loss: 1.0754472593720696, train acc: 0.6241144881170019\n",
            " val loss: 1.0825786796021968, val acc: 0.6232269503546098\n",
            "\n",
            " accuracy: 0.6736664012738853\n"
          ]
        }
      ]
    },
    {
      "cell_type": "code",
      "source": [
        "# ColorJitter - Randomly change the brightness, contrast, saturation and hue of an image.\n",
        "\n",
        "transform_jitter = transforms.Compose(\n",
        "    [\n",
        "        transforms.ColorJitter(brightness=0.2, contrast=0.2, saturation=0.2, hue=0.2),\n",
        "        transforms.ToTensor(),\n",
        "        transforms.Normalize((0.5, 0.5, 0.5), (0.5, 0.5, 0.5)),\n",
        "    ]\n",
        ")\n",
        "\n",
        "train_loader, val_loader, test_loader = get_cifar10_data(\n",
        "    batch_size=64, transform_train=transform_jitter\n",
        ")\n",
        "\n",
        "net = BasicBlockNet().to(device)\n",
        "optimizer = optim.SGD(net.parameters(), lr=0.1, momentum=0.9)\n",
        "scheduler = optim.lr_scheduler.MultiStepLR(optimizer, milestones=[10, 15], gamma=0.1)\n",
        "tr_loss_log, tr_acc_log, val_loss_log, val_acc_log = train(\n",
        "    net, optimizer, 20, train_loader, val_loader, scheduler\n",
        ")\n",
        "\n",
        "test_loss, test_acc = test(net, test_loader)\n",
        "\n",
        "print(f' accuracy: {test_acc}')"
      ],
      "metadata": {
        "colab": {
          "base_uri": "https://localhost:8080/"
        },
        "id": "RI44GGkI5hEU",
        "outputId": "e35158b9-c902-4c70-9cdb-a941de65843e"
      },
      "execution_count": null,
      "outputs": [
        {
          "output_type": "stream",
          "name": "stdout",
          "text": [
            "Epoch 0\n",
            " train loss: 1.5717562539485952, train acc: 0.4394301710629407\n",
            " val loss: 1.3541323063221384, val acc: 0.5222517730496454\n",
            "\n",
            "Epoch 1\n",
            " train loss: 1.3089711169220193, train acc: 0.5401826521284931\n",
            " val loss: 1.2065887075789432, val acc: 0.5812721631205673\n",
            "\n",
            "Epoch 2\n",
            " train loss: 1.2182483113008182, train acc: 0.5749379733611909\n",
            " val loss: 1.2521732350613208, val acc: 0.5671320921985816\n",
            "\n",
            "Epoch 3\n",
            " train loss: 1.1574389119470796, train acc: 0.6000138743797336\n",
            " val loss: 1.18309170692525, val acc: 0.5976285460992907\n",
            "\n",
            "Epoch 4\n",
            " train loss: 1.1218984061664812, train acc: 0.6157204883781665\n",
            " val loss: 1.1841966611273744, val acc: 0.5953900709219859\n",
            "\n",
            "Epoch 5\n",
            " train loss: 1.0894904923395439, train acc: 0.623306509532515\n",
            " val loss: 1.1825423304070817, val acc: 0.5917553191489362\n",
            "\n",
            "Epoch 6\n",
            " train loss: 1.0694293270817186, train acc: 0.6305660746931314\n",
            " val loss: 1.117920807067384, val acc: 0.6183510638297872\n",
            "\n",
            "Epoch 7\n",
            " train loss: 1.0557158885751825, train acc: 0.6370054191694959\n",
            " val loss: 1.0814618409948147, val acc: 0.6267287234042553\n",
            "\n",
            "Epoch 8\n",
            " train loss: 1.04887253253072, train acc: 0.6376991381561765\n",
            " val loss: 1.0960632281100495, val acc: 0.6190824468085107\n",
            "\n",
            "Epoch 9\n",
            " train loss: 1.0299894046957794, train acc: 0.645260675110995\n",
            " val loss: 1.0738606513814724, val acc: 0.6365913120567375\n",
            "\n",
            "Epoch 10\n",
            " train loss: 0.8701385327187491, train acc: 0.7027577370070514\n",
            " val loss: 0.9262889889960594, val acc: 0.6812943262411348\n",
            "\n",
            "Epoch 11\n",
            " train loss: 0.838656194630663, train acc: 0.7112945612431444\n",
            " val loss: 0.9136105737787612, val acc: 0.6890292553191489\n",
            "\n",
            "Epoch 12\n",
            " train loss: 0.8282267013786044, train acc: 0.7132124902063202\n",
            " val loss: 0.9117787089753658, val acc: 0.6856382978723404\n",
            "\n",
            "Epoch 13\n",
            " train loss: 0.8201241070435296, train acc: 0.7171422042308697\n",
            " val loss: 0.8986594534934835, val acc: 0.6929521276595745\n",
            "\n",
            "Epoch 14\n",
            " train loss: 0.8138652953848761, train acc: 0.7198885152781406\n",
            " val loss: 0.8960291388187003, val acc: 0.6936613475177306\n",
            "\n",
            "Epoch 15\n",
            " train loss: 0.7970808832148529, train acc: 0.7256218986680595\n",
            " val loss: 0.8882330486114989, val acc: 0.6957668439716311\n",
            "\n",
            "Epoch 16\n",
            " train loss: 0.7894229532050913, train acc: 0.7278785257247323\n",
            " val loss: 0.8904514345716923, val acc: 0.691622340425532\n",
            "\n",
            "Epoch 17\n",
            " train loss: 0.7945268233144959, train acc: 0.726691042047532\n",
            " val loss: 0.8880620165074126, val acc: 0.6927748226950354\n",
            "\n",
            "Epoch 18\n",
            " train loss: 0.7908257050967522, train acc: 0.7271644032384434\n",
            " val loss: 0.8877105357799124, val acc: 0.6961214539007093\n",
            "\n",
            "Epoch 19\n",
            " train loss: 0.7895990352961874, train acc: 0.7300494580830503\n",
            " val loss: 0.8866026888502405, val acc: 0.6939051418439716\n",
            "\n",
            " accuracy: 0.6977507961783439\n"
          ]
        }
      ]
    },
    {
      "cell_type": "code",
      "source": [
        "# все вместе даже не обучалось, выбрала 3 с лучшим качеством\n",
        "\n",
        "transform_combined = transforms.Compose(\n",
        "    [\n",
        "        transforms.RandomHorizontalFlip(),\n",
        "        transforms.RandomResizedCrop(size=32, scale=(0.8, 1.0)),\n",
        "        transforms.ColorJitter(brightness=0.2, contrast=0.2, saturation=0.2, hue=0.2),\n",
        "        transforms.ToTensor(),\n",
        "        transforms.Normalize((0.5, 0.5, 0.5), (0.5, 0.5, 0.5)),\n",
        "    ]\n",
        ")\n",
        "\n",
        "train_loader, val_loader, test_loader = get_cifar10_data(\n",
        "    batch_size=64, transform_train=transform_combined\n",
        ")\n",
        "\n",
        "net = BasicBlockNet().to(device)\n",
        "optimizer = optim.SGD(net.parameters(), lr=0.1, momentum=0.9)\n",
        "scheduler = optim.lr_scheduler.MultiStepLR(optimizer, milestones=[10, 15], gamma=0.1)\n",
        "tr_loss_log, tr_acc_log, val_loss_log, val_acc_log = train(\n",
        "    net, optimizer, 20, train_loader, val_loader, scheduler\n",
        ")\n",
        "\n",
        "test_loss, test_acc = test(net, test_loader)\n",
        "\n",
        "print(f' accuracy: {test_acc}')"
      ],
      "metadata": {
        "colab": {
          "base_uri": "https://localhost:8080/"
        },
        "id": "ovl0Q7P_DZ3K",
        "outputId": "b25c243d-bfce-42da-d9d8-5b7fa282ddad"
      },
      "execution_count": null,
      "outputs": [
        {
          "output_type": "stream",
          "name": "stdout",
          "text": [
            "Epoch 0\n",
            " train loss: 1.6568665528428184, train acc: 0.41277095847479756\n",
            " val loss: 1.508484366092276, val acc: 0.46252216312056743\n",
            "\n",
            "Epoch 1\n",
            " train loss: 1.434350801560299, train acc: 0.4989308566205275\n",
            " val loss: 1.4278576992927714, val acc: 0.5019503546099291\n",
            "\n",
            "Epoch 2\n",
            " train loss: 1.3528959818688346, train acc: 0.5279936014625228\n",
            " val loss: 1.3806890931535274, val acc: 0.5164893617021277\n",
            "\n",
            "Epoch 3\n",
            " train loss: 1.2934840358589423, train acc: 0.5506251632279968\n",
            " val loss: 1.3116834183956714, val acc: 0.5482712765957447\n",
            "\n",
            "Epoch 4\n",
            " train loss: 1.2724016502744755, train acc: 0.5580969247845391\n",
            " val loss: 1.2332013868271037, val acc: 0.5750443262411349\n",
            "\n",
            "Epoch 5\n",
            " train loss: 1.2421627174347802, train acc: 0.5685884042831025\n",
            " val loss: 1.3556270792129193, val acc: 0.5370124113475178\n",
            "\n",
            "Epoch 6\n",
            " train loss: 1.24314754089882, train acc: 0.5697105967615566\n",
            " val loss: 1.2741210376962702, val acc: 0.5680407801418439\n",
            "\n",
            "Epoch 7\n",
            " train loss: 1.217369401803618, train acc: 0.5779821755027422\n",
            " val loss: 1.2544001386520711, val acc: 0.5705230496453901\n",
            "\n",
            "Epoch 8\n",
            " train loss: 1.2194087357146213, train acc: 0.5804061112562027\n",
            " val loss: 1.2191369916530366, val acc: 0.5745789007092199\n",
            "\n",
            "Epoch 9\n",
            " train loss: 1.188333062519757, train acc: 0.5878125816139984\n",
            " val loss: 1.2213538225660934, val acc: 0.5940159574468085\n",
            "\n",
            "Epoch 10\n",
            " train loss: 1.0402774768294103, train acc: 0.6394538391224863\n",
            " val loss: 1.0270661491028805, val acc: 0.6438386524822695\n",
            "\n",
            "Epoch 11\n",
            " train loss: 1.0115691129206739, train acc: 0.6495535714285714\n",
            " val loss: 1.0039419970613845, val acc: 0.6561835106382978\n",
            "\n",
            "Epoch 12\n",
            " train loss: 1.001405454749817, train acc: 0.6530670540611125\n",
            " val loss: 1.0152588905172144, val acc: 0.6512632978723404\n",
            "\n",
            "Epoch 13\n",
            " train loss: 0.9928543666816935, train acc: 0.6582209780621572\n",
            " val loss: 0.9996167436559149, val acc: 0.654188829787234\n",
            "\n",
            "Epoch 14\n",
            " train loss: 0.9860457707148801, train acc: 0.6572456907808828\n",
            " val loss: 1.003438701528184, val acc: 0.652061170212766\n",
            "\n",
            "Epoch 15\n",
            " train loss: 0.9669131851283462, train acc: 0.6648765996343693\n",
            " val loss: 0.9887089622781632, val acc: 0.6596852836879433\n",
            "\n",
            "Epoch 16\n",
            " train loss: 0.9661941804005415, train acc: 0.6665252024027162\n",
            " val loss: 0.9761508079285317, val acc: 0.6641622340425531\n",
            "\n",
            "Epoch 17\n",
            " train loss: 0.9580664037568478, train acc: 0.6674678440846175\n",
            " val loss: 0.9832979963180867, val acc: 0.6597074468085107\n",
            "\n",
            "Epoch 18\n",
            " train loss: 0.9602887013712574, train acc: 0.6669128688952729\n",
            " val loss: 0.9790654212870497, val acc: 0.6639849290780141\n",
            "\n",
            "Epoch 19\n",
            " train loss: 0.9642872541216653, train acc: 0.6667700443980151\n",
            " val loss: 0.9752219205207013, val acc: 0.6664671985815603\n",
            "\n",
            " accuracy: 0.6750597133757962\n"
          ]
        }
      ]
    },
    {
      "cell_type": "markdown",
      "metadata": {
        "id": "4K-MptLiO9Dv",
        "pycharm": {
          "name": "#%% md\n"
        }
      },
      "source": [
        "Your answers here:\n",
        "- RandomRotation - поворачивает картинку на некоторый угол (в нашем случае в диапазоне от -30 до +30)\n",
        "- RandomResizedCrop - обрезает картинку случайным образом и подгоняет под заданные пропорции.\n",
        "- RandomAffine - применяет случайную аффинную трансформацию (т.е. масштабирование, поворот, сдвиг и т.д.)\n",
        "- ColorJitter - изменяет яркость, контрастность, насыщенность и оттенок.\n",
        "\n",
        "Каждая по отдельности немного ухудшила качество на тесте. Вместе - еще сильнее понизили."
      ]
    },
    {
      "cell_type": "markdown",
      "metadata": {
        "id": "HCENjLw5O9Dv",
        "pycharm": {
          "name": "#%% md\n"
        }
      },
      "source": [
        "## Бонус. Логирование в wandb (1 балл)"
      ]
    },
    {
      "cell_type": "markdown",
      "metadata": {
        "id": "xOyzc1mnO9Dv",
        "pycharm": {
          "name": "#%% md\n"
        }
      },
      "source": [
        "На практике специалиста по глубинному обучению часто встречаются ситуации, когда нейросеть учится на каком-то удаленном сервере. И обычно вам хочется отслеживать прогресс обучения, особенно когда время обучения модели исчисляется днями или неделями. Для таких целей существует несколько инструментов. Вероятно, самый популярный из них — [wandb](https://wandb.ai/site).\n",
        "\n",
        "Ваша задача состоит в том, чтобы разобраться как им пользоваться, и повторить задания 2.1 и 2.2 с его использованием. Обучение вы можете запускать в этом же ноутбуке, но теперь вам необходимо через wandb логировать значения функции потерь и точности на обучающей выборке и на валидационной. Результатом работы должны быть ваш код и публичная ссылка на страничку с графиками, идентичными графикам в задании 2.2.\n",
        "\n",
        "Если вас смущает, что WandB грозится забанить вас, то можете разобраться с любым его аналогом и приложить ссылку на аналог."
      ]
    },
    {
      "cell_type": "markdown",
      "source": [
        "```https://api.wandb.ai/links/feomak16-hse/0t2hvfwa```"
      ],
      "metadata": {
        "id": "8HDH5ebcPfHs"
      }
    },
    {
      "cell_type": "code",
      "execution_count": null,
      "metadata": {
        "id": "m5gSTLAr_QS4",
        "pycharm": {
          "name": "#%%\n"
        }
      },
      "outputs": [],
      "source": [
        "! pip install wandb -q"
      ]
    },
    {
      "cell_type": "code",
      "source": [
        "import wandb\n",
        "\n",
        "wandb.init(project=\"cifar10_training\", entity=\"feomak16-hse\")"
      ],
      "metadata": {
        "colab": {
          "base_uri": "https://localhost:8080/",
          "height": 697
        },
        "id": "qojUwMFm_WQ6",
        "outputId": "a86cb2ab-f64d-4cab-a472-476b266ac3f6"
      },
      "execution_count": null,
      "outputs": [
        {
          "output_type": "stream",
          "name": "stderr",
          "text": [
            "\u001b[34m\u001b[1mwandb\u001b[0m: Using wandb-core as the SDK backend.  Please refer to https://wandb.me/wandb-core for more information.\n"
          ]
        },
        {
          "output_type": "display_data",
          "data": {
            "text/plain": [
              "<IPython.core.display.Javascript object>"
            ],
            "application/javascript": [
              "\n",
              "        window._wandbApiKey = new Promise((resolve, reject) => {\n",
              "            function loadScript(url) {\n",
              "            return new Promise(function(resolve, reject) {\n",
              "                let newScript = document.createElement(\"script\");\n",
              "                newScript.onerror = reject;\n",
              "                newScript.onload = resolve;\n",
              "                document.body.appendChild(newScript);\n",
              "                newScript.src = url;\n",
              "            });\n",
              "            }\n",
              "            loadScript(\"https://cdn.jsdelivr.net/npm/postmate/build/postmate.min.js\").then(() => {\n",
              "            const iframe = document.createElement('iframe')\n",
              "            iframe.style.cssText = \"width:0;height:0;border:none\"\n",
              "            document.body.appendChild(iframe)\n",
              "            const handshake = new Postmate({\n",
              "                container: iframe,\n",
              "                url: 'https://wandb.ai/authorize'\n",
              "            });\n",
              "            const timeout = setTimeout(() => reject(\"Couldn't auto authenticate\"), 5000)\n",
              "            handshake.then(function(child) {\n",
              "                child.on('authorize', data => {\n",
              "                    clearTimeout(timeout)\n",
              "                    resolve(data)\n",
              "                });\n",
              "            });\n",
              "            })\n",
              "        });\n",
              "    "
            ]
          },
          "metadata": {}
        },
        {
          "output_type": "stream",
          "name": "stderr",
          "text": [
            "\u001b[34m\u001b[1mwandb\u001b[0m: Logging into wandb.ai. (Learn how to deploy a W&B server locally: https://wandb.me/wandb-server)\n",
            "\u001b[34m\u001b[1mwandb\u001b[0m: You can find your API key in your browser here: https://wandb.ai/authorize\n",
            "wandb: Paste an API key from your profile and hit enter:"
          ]
        },
        {
          "name": "stdout",
          "output_type": "stream",
          "text": [
            " ··········\n"
          ]
        },
        {
          "output_type": "stream",
          "name": "stderr",
          "text": [
            "\u001b[34m\u001b[1mwandb\u001b[0m: \u001b[33mWARNING\u001b[0m If you're specifying your api key in code, ensure this code is not shared publicly.\n",
            "\u001b[34m\u001b[1mwandb\u001b[0m: \u001b[33mWARNING\u001b[0m Consider setting the WANDB_API_KEY environment variable, or running `wandb login` from the command line.\n",
            "\u001b[34m\u001b[1mwandb\u001b[0m: No netrc file found, creating one.\n",
            "\u001b[34m\u001b[1mwandb\u001b[0m: Appending key for api.wandb.ai to your netrc file: /root/.netrc\n",
            "\u001b[34m\u001b[1mwandb\u001b[0m: Currently logged in as: \u001b[33mfeomak16\u001b[0m (\u001b[33mfeomak16-hse\u001b[0m) to \u001b[32mhttps://api.wandb.ai\u001b[0m. Use \u001b[1m`wandb login --relogin`\u001b[0m to force relogin\n"
          ]
        },
        {
          "output_type": "display_data",
          "data": {
            "text/plain": [
              "<IPython.core.display.HTML object>"
            ],
            "text/html": [
              "Tracking run with wandb version 0.19.9"
            ]
          },
          "metadata": {}
        },
        {
          "output_type": "display_data",
          "data": {
            "text/plain": [
              "<IPython.core.display.HTML object>"
            ],
            "text/html": [
              "Run data is saved locally in <code>/content/wandb/run-20250427_164124-3jw2jem0</code>"
            ]
          },
          "metadata": {}
        },
        {
          "output_type": "display_data",
          "data": {
            "text/plain": [
              "<IPython.core.display.HTML object>"
            ],
            "text/html": [
              "Syncing run <strong><a href='https://wandb.ai/feomak16-hse/cifar10_training/runs/3jw2jem0' target=\"_blank\">soft-dream-1</a></strong> to <a href='https://wandb.ai/feomak16-hse/cifar10_training' target=\"_blank\">Weights & Biases</a> (<a href='https://wandb.me/developer-guide' target=\"_blank\">docs</a>)<br>"
            ]
          },
          "metadata": {}
        },
        {
          "output_type": "display_data",
          "data": {
            "text/plain": [
              "<IPython.core.display.HTML object>"
            ],
            "text/html": [
              " View project at <a href='https://wandb.ai/feomak16-hse/cifar10_training' target=\"_blank\">https://wandb.ai/feomak16-hse/cifar10_training</a>"
            ]
          },
          "metadata": {}
        },
        {
          "output_type": "display_data",
          "data": {
            "text/plain": [
              "<IPython.core.display.HTML object>"
            ],
            "text/html": [
              " View run at <a href='https://wandb.ai/feomak16-hse/cifar10_training/runs/3jw2jem0' target=\"_blank\">https://wandb.ai/feomak16-hse/cifar10_training/runs/3jw2jem0</a>"
            ]
          },
          "metadata": {}
        },
        {
          "output_type": "execute_result",
          "data": {
            "text/html": [
              "<button onClick=\"this.nextSibling.style.display='block';this.style.display='none';\">Display W&B run</button><iframe src='https://wandb.ai/feomak16-hse/cifar10_training/runs/3jw2jem0?jupyter=true' style='border:none;width:100%;height:420px;display:none;'></iframe>"
            ],
            "text/plain": [
              "<wandb.sdk.wandb_run.Run at 0x7cee82f40dd0>"
            ]
          },
          "metadata": {},
          "execution_count": 48
        }
      ]
    },
    {
      "cell_type": "code",
      "source": [
        "net = BasicBlockNet().to(device)\n",
        "optimizer = optim.SGD(net.parameters(), lr=0.1, momentum=0.9)\n",
        "scheduler = optim.lr_scheduler.MultiStepLR(optimizer, milestones=[10, 15], gamma=0.1)\n",
        "\n",
        "train_loss_log, train_acc_log, val_loss_log, val_acc_log = [], [], [], []\n",
        "\n",
        "for epoch in range(20):\n",
        "    train_loss, train_acc = train_epoch(net, optimizer, train_loader)\n",
        "    train_loss_log.extend(train_loss)\n",
        "    train_acc_log.extend(train_acc)\n",
        "\n",
        "    val_loss, val_acc = test(net, val_loader)\n",
        "    val_loss_log.append(val_loss)\n",
        "    val_acc_log.append(val_acc)\n",
        "\n",
        "    wandb.log({\n",
        "        \"train_loss\": np.mean(train_loss), # усредняю, чтобы было посимпатичнее. помилуйте, на всякий случай\n",
        "        \"train_accuracy\": np.mean(train_acc),\n",
        "        \"val_loss\": val_loss,\n",
        "        \"val_accuracy\": val_acc,\n",
        "    })\n",
        "\n",
        "    scheduler.step()\n",
        "\n",
        "    print(f\"epoch {epoch}: train loss {np.mean(train_loss)}, train acc {np.mean(train_acc)}, val loss: {val_loss}, val acc: {val_acc}\")\n"
      ],
      "metadata": {
        "colab": {
          "base_uri": "https://localhost:8080/"
        },
        "id": "yDFGRk3__2iy",
        "outputId": "936ad66d-b3cb-4d06-a0ff-123849b0ef74"
      },
      "execution_count": null,
      "outputs": [
        {
          "output_type": "stream",
          "name": "stdout",
          "text": [
            "epoch 0: train loss 1.702210258522243, train acc 0.39284490075737794, val loss: 1.5275660748177387, val acc: 0.4586214539007092\n",
            "epoch 1: train loss 1.456136257164657, train acc 0.4865214481587881, val loss: 1.353824237559704, val acc: 0.5320478723404255\n",
            "epoch 2: train loss 1.3713868646124816, train acc 0.5229743405588927, val loss: 1.3355445653834241, val acc: 0.5287898936170212\n",
            "epoch 3: train loss 1.3252989234610493, train acc 0.5399051645338209, val loss: 1.331569151168174, val acc: 0.5372118794326242\n",
            "epoch 4: train loss 1.2849787525982481, train acc 0.5549996735440063, val loss: 1.2349751754009977, val acc: 0.5674202127659574\n",
            "epoch 5: train loss 1.2502477552598747, train acc 0.5671234330112301, val loss: 1.1940068059779227, val acc: 0.5840868794326242\n",
            "epoch 6: train loss 1.2372224100982903, train acc 0.5733628231914338, val loss: 1.2343231650108988, val acc: 0.5823803191489362\n",
            "epoch 7: train loss 1.2211042724318217, train acc 0.5809733285453121, val loss: 1.18268941158944, val acc: 0.5943262411347519\n",
            "epoch 8: train loss 1.2017789929832794, train acc 0.5839604008879603, val loss: 1.1649651613641292, val acc: 0.5999778368794327\n",
            "epoch 9: train loss 1.1897449790886594, train acc 0.5893795703839122, val loss: 1.1542800497501455, val acc: 0.6010859929078013\n",
            "epoch 10: train loss 1.0285995116617388, train acc 0.6469460041786367, val loss: 1.0223181491202495, val acc: 0.6449024822695034\n",
            "epoch 11: train loss 0.9968838556593036, train acc 0.6550217093235832, val loss: 1.0049546954479622, val acc: 0.653767730496454\n",
            "epoch 12: train loss 0.9864671378510526, train acc 0.6606122682162444, val loss: 0.9915531145765426, val acc: 0.6593306737588651\n",
            "epoch 13: train loss 0.9807461100260998, train acc 0.6630851723687646, val loss: 1.0011224340885243, val acc: 0.6514849290780141\n",
            "epoch 14: train loss 0.9817431156116604, train acc 0.6631912705667276, val loss: 0.9923826174533114, val acc: 0.6551640070921987\n",
            "epoch 15: train loss 0.9614013060791183, train acc 0.6705814181248367, val loss: 0.9669040641886123, val acc: 0.6707446808510639\n",
            "epoch 16: train loss 0.9512876273291202, train acc 0.6735276834682685, val loss: 0.9736047125877219, val acc: 0.6634530141843971\n",
            "epoch 17: train loss 0.951973044349245, train acc 0.6692266257508488, val loss: 0.9696081531808731, val acc: 0.6663563829787233\n",
            "epoch 18: train loss 0.9577771624655784, train acc 0.6695000326455994, val loss: 0.9712913216428554, val acc: 0.6672872340425532\n",
            "epoch 19: train loss 0.9540481130427373, train acc 0.6729155784800209, val loss: 0.9705428273119825, val acc: 0.6689716312056737\n"
          ]
        }
      ]
    },
    {
      "cell_type": "code",
      "source": [
        "test_loss, test_acc = test(net, test_loader)\n",
        "wandb.log({\"test_loss\": test_loss, \"test_accuracy\": test_acc})\n",
        "\n",
        "wandb.finish()\n",
        "\n",
        "print(f\"Test Loss: {test_loss}, Test Accuracy: {test_acc}\")\n"
      ],
      "metadata": {
        "colab": {
          "base_uri": "https://localhost:8080/",
          "height": 548
        },
        "id": "0zbUANsaASkP",
        "outputId": "884ae2bb-aa92-4afd-eb69-43015630e9a7"
      },
      "execution_count": null,
      "outputs": [
        {
          "output_type": "display_data",
          "data": {
            "text/plain": [
              "<IPython.core.display.HTML object>"
            ],
            "text/html": []
          },
          "metadata": {}
        },
        {
          "output_type": "display_data",
          "data": {
            "text/plain": [
              "<IPython.core.display.HTML object>"
            ],
            "text/html": [
              "<br>    <style><br>        .wandb-row {<br>            display: flex;<br>            flex-direction: row;<br>            flex-wrap: wrap;<br>            justify-content: flex-start;<br>            width: 100%;<br>        }<br>        .wandb-col {<br>            display: flex;<br>            flex-direction: column;<br>            flex-basis: 100%;<br>            flex: 1;<br>            padding: 10px;<br>        }<br>    </style><br><div class=\"wandb-row\"><div class=\"wandb-col\"><h3>Run history:</h3><br/><table class=\"wandb\"><tr><td>test_accuracy</td><td>▁</td></tr><tr><td>test_loss</td><td>▁</td></tr><tr><td>train_accuracy</td><td>▁▃▄▅▅▅▆▆▆▆▇█████████</td></tr><tr><td>train_loss</td><td>█▆▅▄▄▄▄▄▃▃▂▁▁▁▁▁▁▁▁▁</td></tr><tr><td>val_accuracy</td><td>▁▃▃▄▅▅▅▅▆▆▇▇█▇▇█████</td></tr><tr><td>val_loss</td><td>█▆▆▆▄▄▄▄▃▃▂▁▁▁▁▁▁▁▁▁</td></tr></table><br/></div><div class=\"wandb-col\"><h3>Run summary:</h3><br/><table class=\"wandb\"><tr><td>test_accuracy</td><td>0.68252</td></tr><tr><td>test_loss</td><td>0.93059</td></tr><tr><td>train_accuracy</td><td>0.67292</td></tr><tr><td>train_loss</td><td>0.95405</td></tr><tr><td>val_accuracy</td><td>0.66897</td></tr><tr><td>val_loss</td><td>0.97054</td></tr></table><br/></div></div>"
            ]
          },
          "metadata": {}
        },
        {
          "output_type": "display_data",
          "data": {
            "text/plain": [
              "<IPython.core.display.HTML object>"
            ],
            "text/html": [
              " View run <strong style=\"color:#cdcd00\">soft-dream-1</strong> at: <a href='https://wandb.ai/feomak16-hse/cifar10_training/runs/3jw2jem0' target=\"_blank\">https://wandb.ai/feomak16-hse/cifar10_training/runs/3jw2jem0</a><br> View project at: <a href='https://wandb.ai/feomak16-hse/cifar10_training' target=\"_blank\">https://wandb.ai/feomak16-hse/cifar10_training</a><br>Synced 5 W&B file(s), 0 media file(s), 0 artifact file(s) and 0 other file(s)"
            ]
          },
          "metadata": {}
        },
        {
          "output_type": "display_data",
          "data": {
            "text/plain": [
              "<IPython.core.display.HTML object>"
            ],
            "text/html": [
              "Find logs at: <code>./wandb/run-20250427_164124-3jw2jem0/logs</code>"
            ]
          },
          "metadata": {}
        },
        {
          "output_type": "stream",
          "name": "stdout",
          "text": [
            "Test Loss: 0.9305929556773727, Test Accuracy: 0.6825238853503185\n"
          ]
        }
      ]
    }
  ],
  "metadata": {
    "accelerator": "GPU",
    "colab": {
      "provenance": [],
      "gpuType": "T4",
      "include_colab_link": true
    },
    "kernelspec": {
      "display_name": "Python 3",
      "name": "python3"
    },
    "language_info": {
      "codemirror_mode": {
        "name": "ipython",
        "version": 3
      },
      "file_extension": ".py",
      "mimetype": "text/x-python",
      "name": "python",
      "nbconvert_exporter": "python",
      "pygments_lexer": "ipython3",
      "version": "3.10.4"
    }
  },
  "nbformat": 4,
  "nbformat_minor": 0
}